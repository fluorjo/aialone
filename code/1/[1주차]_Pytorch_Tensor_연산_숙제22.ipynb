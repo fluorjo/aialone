{
 "cells": [
  {
   "cell_type": "markdown",
   "metadata": {
    "id": "OHDAOrfdS5p2"
   },
   "source": [
    "# Tensor 연습 문제 초급"
   ]
  },
  {
   "cell_type": "code",
   "execution_count": 20,
   "metadata": {
    "id": "NfDN5U4CGRuA"
   },
   "outputs": [],
   "source": [
    "import torch"
   ]
  },
  {
   "cell_type": "code",
   "execution_count": 21,
   "metadata": {},
   "outputs": [
    {
     "name": "stdout",
     "output_type": "stream",
     "text": [
      "1\n"
     ]
    }
   ],
   "source": [
    "y=torch.tensor([2,3,4,5])\n",
    "\n",
    "print(y.dim())"
   ]
  },
  {
   "cell_type": "code",
   "execution_count": 22,
   "metadata": {
    "id": "_85xqNBW_7aD"
   },
   "outputs": [],
   "source": [
    "'''\n",
    "[1번] \n",
    "아래 세 리스트 a, b, c를 이용해 이를 pytorch의 float64 type의 tensor로 바꾸고 그것의 크기를 print해 보세요\n",
    "'''\n",
    "a = [8, 6, 1]\n",
    "b = [[1,7,4], [7,2,7]]\n",
    "c = [[[1,2,3], [4,5,1],[9,8,2]], [[10,6,5], [2,2,7],[6,6,1]]]\n",
    "\n",
    "# 아래에 풀이 적기 "
   ]
  },
  {
   "cell_type": "code",
   "execution_count": 23,
   "metadata": {
    "colab": {
     "base_uri": "https://localhost:8080/"
    },
    "id": "jsR4SX3vAaFq",
    "outputId": "a2002fd4-8ef8-4e01-9f3a-3467b9350efd"
   },
   "outputs": [
    {
     "name": "stdout",
     "output_type": "stream",
     "text": [
      "torch.float32\n",
      "tensor([8., 6., 1.], dtype=torch.float64)\n",
      "torch.Size([3])\n",
      "1\n"
     ]
    }
   ],
   "source": [
    "#우선 리스트를 텐서로 바꿈.\n",
    "d=torch.Tensor(a)\n",
    "print(d.dtype)\n",
    "\n",
    "#이 상태에선 자료형이 float32이기 때문에 to torch로 텐서의 자료형을 float64로 바꿈.\n",
    "d = d.to(torch.float64)\n",
    "\n",
    "print(d)\n",
    "print(d.shape) #print(d.size())\n",
    "print(d.dim())"
   ]
  },
  {
   "cell_type": "code",
   "execution_count": 24,
   "metadata": {
    "colab": {
     "base_uri": "https://localhost:8080/"
    },
    "id": "bTo171FpCULP",
    "outputId": "0aa87c41-fdff-400d-9d37-285bb4ee9cc2"
   },
   "outputs": [
    {
     "name": "stdout",
     "output_type": "stream",
     "text": [
      "tensor([[1., 7., 4.],\n",
      "        [7., 2., 7.]], dtype=torch.float64)\n",
      "torch.Size([2, 3])\n",
      "2\n"
     ]
    }
   ],
   "source": [
    "e=torch.Tensor(b)\n",
    "e = e.to(torch.float64)\n",
    "\n",
    "print(e)\n",
    "print(e.size())\n",
    "print(e.dim())"
   ]
  },
  {
   "cell_type": "code",
   "execution_count": 25,
   "metadata": {
    "colab": {
     "base_uri": "https://localhost:8080/"
    },
    "id": "Euq_gB7MDlfE",
    "outputId": "fb448cf6-a9c5-4760-e9d9-ccc97e5f0fc9"
   },
   "outputs": [
    {
     "name": "stdout",
     "output_type": "stream",
     "text": [
      "tensor([[[ 1.,  2.,  3.],\n",
      "         [ 4.,  5.,  1.],\n",
      "         [ 9.,  8.,  2.]],\n",
      "\n",
      "        [[10.,  6.,  5.],\n",
      "         [ 2.,  2.,  7.],\n",
      "         [ 6.,  6.,  1.]]], dtype=torch.float64)\n",
      "torch.Size([2, 3, 3])\n",
      "3\n"
     ]
    }
   ],
   "source": [
    "f=torch.Tensor(c)\n",
    "f = f.to(torch.float64)\n",
    "\n",
    "print(f)\n",
    "print(f.size())\n",
    "print(f.dim())"
   ]
  },
  {
   "cell_type": "code",
   "execution_count": 26,
   "metadata": {
    "id": "eICnl-CKSzAy"
   },
   "outputs": [],
   "source": [
    "'''\n",
    "[2번] \n",
    "아래 두 tensor a와 b의 합을 구하고 그 결과를 출력하세요 \n",
    "'''\n",
    "\n",
    "a = torch.tensor([1, 2, 3])\n",
    "b = torch.tensor([4, 5, 6])\n",
    "\n",
    "# 아래에 풀이 적기 \n"
   ]
  },
  {
   "cell_type": "code",
   "execution_count": 11,
   "metadata": {},
   "outputs": [
    {
     "name": "stdout",
     "output_type": "stream",
     "text": [
      "tensor([5, 7, 9])\n"
     ]
    }
   ],
   "source": [
    "#텐서의 크기가 같기 때문에 바로 덧셈 가능.\n",
    "if a.shape==b.shape:\n",
    "  print(a.add(b))\n"
   ]
  },
  {
   "cell_type": "code",
   "execution_count": 27,
   "metadata": {
    "colab": {
     "base_uri": "https://localhost:8080/"
    },
    "id": "opCtaRAhAZXX",
    "outputId": "bc6843de-394f-4800-fa61-f32fd7d1c575"
   },
   "outputs": [
    {
     "name": "stdout",
     "output_type": "stream",
     "text": [
      "tensor([5, 7, 9])\n"
     ]
    }
   ],
   "source": [
    "#간단하게 a+b로 해도 됨.\n",
    "if a.shape==b.shape:\n",
    "  print(a+b)\n",
    "  "
   ]
  },
  {
   "cell_type": "code",
   "execution_count": 4,
   "metadata": {
    "id": "2lweMCOqTw2D"
   },
   "outputs": [],
   "source": [
    "'''\n",
    "[3번] \n",
    "아래 tensor의 최솟값과 최댓값을 출력해세요 \n",
    "'''\n",
    "a = torch.tensor([2, 4, 1, 7, 5])\n",
    "\n",
    "# 아래에 풀이 적기 \n"
   ]
  },
  {
   "cell_type": "code",
   "execution_count": 6,
   "metadata": {
    "colab": {
     "base_uri": "https://localhost:8080/"
    },
    "id": "RdbnEAUrNLDl",
    "outputId": "c12405ca-274a-4c3f-83e4-4409a15f236a"
   },
   "outputs": [
    {
     "name": "stdout",
     "output_type": "stream",
     "text": [
      "tensor(7)\n",
      "최대값 torch.return_types.max(\n",
      "values=tensor(7),\n",
      "indices=tensor(3))\n",
      "최소값 torch.return_types.min(\n",
      "values=tensor(1),\n",
      "indices=tensor(2))\n"
     ]
    }
   ],
   "source": [
    "print(a.max())\n",
    "#dim=0을 넣어주면 첫번째 차원을 제거함.\n",
    "print('최대값',a.max(dim=0))\n",
    "print('최소값',a.min(dim=0))"
   ]
  },
  {
   "cell_type": "code",
   "execution_count": 9,
   "metadata": {
    "colab": {
     "base_uri": "https://localhost:8080/"
    },
    "id": "Ng8lVgQKT0zZ",
    "outputId": "6fc88e86-a766-4836-ca9d-a25fd0db8038"
   },
   "outputs": [
    {
     "name": "stdout",
     "output_type": "stream",
     "text": [
      "tensor([[0., 0., 0., 0.],\n",
      "        [0., 0., 0., 0.],\n",
      "        [0., 0., 0., 0.]])\n",
      "tensor([[0, 0, 0, 0],\n",
      "        [0, 0, 0, 0],\n",
      "        [0, 0, 0, 0]])\n"
     ]
    }
   ],
   "source": [
    "'''\n",
    "[4번] \n",
    "모든 값이 0으로 채워진 3 x 4 tensor a를 만드세요 \n",
    "'''\n",
    "\n",
    "# 아래에 풀이 적기 \n",
    "\n",
    "tensor_a=torch.zeros(3,4)\n",
    "print(tensor_a)\n",
    "\n",
    "#torch.full은 원하는 값을 지정해 채울 수 있음.\n",
    "tensor_a2=torch.full(size=(3,4), fill_value=0)\n",
    "print(tensor_a2)"
   ]
  },
  {
   "cell_type": "code",
   "execution_count": 20,
   "metadata": {
    "colab": {
     "base_uri": "https://localhost:8080/"
    },
    "id": "sgoKcIkd-Y_u",
    "outputId": "36c4f24d-f80b-4d2a-a98f-909106fcdf82"
   },
   "outputs": [
    {
     "name": "stdout",
     "output_type": "stream",
     "text": [
      "tensor([[ 3,  9, 10,  8],\n",
      "        [ 6,  5,  6,  4],\n",
      "        [ 9,  6,  7,  8]])\n"
     ]
    }
   ],
   "source": [
    "'''\n",
    "[5번] \n",
    "3 이상 10 이하의 정수로 이루어진 3 x 4 크기의 tensor a를 만드세요 \n",
    "'''\n",
    "\n",
    "# 아래에 풀이 적기 \n",
    "#randint(a,b,size=(c,d)) 로 랜덤값을 가지는 텐서 생성. a '이상' b '미만'의 범위로 생성됨.\n",
    "tensor_a=torch.randint(3,11, size=(3,4))\n",
    "print(tensor_a)"
   ]
  },
  {
   "cell_type": "code",
   "execution_count": 22,
   "metadata": {
    "colab": {
     "base_uri": "https://localhost:8080/"
    },
    "id": "9EfBcukG-ZQx",
    "outputId": "71d71412-80c1-420f-81bf-ac2580d7e0e9"
   },
   "outputs": [
    {
     "name": "stdout",
     "output_type": "stream",
     "text": [
      "tensor(4)\n",
      "tensor(5)\n"
     ]
    }
   ],
   "source": [
    "'''\n",
    "[6번] \n",
    "아래 a tensor의 앞에서부터 2번 째 원소와 가장 마지막 원소를 출력하세요 \n",
    "'''\n",
    "a = torch.tensor([2, 4, 5, 7, 5])\n",
    "\n",
    "# 아래에 풀이 적기 \n",
    "print(a[1])\n",
    "print(a[-1])"
   ]
  },
  {
   "cell_type": "code",
   "execution_count": 25,
   "metadata": {
    "colab": {
     "base_uri": "https://localhost:8080/"
    },
    "id": "l7vtv38t-Zc0",
    "outputId": "4eefd461-dc0a-45d5-aab4-d8a877e4b8c3"
   },
   "outputs": [
    {
     "name": "stdout",
     "output_type": "stream",
     "text": [
      "torch.Size([2, 6])\n",
      "tensor([[[-0.7829,  0.4146],\n",
      "         [ 1.3554,  0.8902]],\n",
      "\n",
      "        [[ 0.4299,  0.9516],\n",
      "         [-1.5169, -0.2015]],\n",
      "\n",
      "        [[ 1.4073, -1.1420],\n",
      "         [-0.3799, -0.1693]]])\n",
      "torch.Size([3, 2, 2])\n"
     ]
    }
   ],
   "source": [
    "'''\n",
    "[7번] \n",
    "아래 a tensor의 크기를 출력하고\n",
    "이를 3 x 2 x 2 크기를 갖는 b tensor로 변경해보세요 \n",
    "'''\n",
    "a = torch.randn((2, 6))\n",
    "print(a.shape)\n",
    "b=a.reshape(3,2,2)\n",
    "print(b)\n",
    "print(b.shape)\n",
    "# 아래에 풀이 적기 \n"
   ]
  },
  {
   "cell_type": "code",
   "execution_count": 28,
   "metadata": {
    "colab": {
     "base_uri": "https://localhost:8080/"
    },
    "id": "rQWDhaYt-Zil",
    "outputId": "64919519-043f-4650-c0f5-192278692893"
   },
   "outputs": [
    {
     "name": "stdout",
     "output_type": "stream",
     "text": [
      "tensor([ 3,  6,  9, 12])\n"
     ]
    }
   ],
   "source": [
    "'''\n",
    "[8번] \n",
    "아래 a tensor의 모든 원소의 값을 3배 해 보세요 \n",
    "'''\n",
    "a = torch.tensor([1, 2, 3, 4])\n",
    "\n",
    "# 아래에 풀이 적기 \n",
    "print(a*3)\n"
   ]
  },
  {
   "cell_type": "code",
   "execution_count": 29,
   "metadata": {
    "colab": {
     "base_uri": "https://localhost:8080/"
    },
    "id": "9Il2jg20-Znx",
    "outputId": "3431c876-fba8-467b-fc58-1f17c7c4a56a"
   },
   "outputs": [
    {
     "name": "stdout",
     "output_type": "stream",
     "text": [
      "tensor([ 1,  4,  9, 16])\n"
     ]
    }
   ],
   "source": [
    "'''\n",
    "[9번] \n",
    "아래 a tensor의 모든 원소의 값을 제곱 해 보세요 \n",
    "'''\n",
    "a = torch.tensor([1, 2, 3, 4])\n",
    "\n",
    "# 아래에 풀이 적기 \n",
    "print(a**2)\n"
   ]
  },
  {
   "cell_type": "markdown",
   "metadata": {
    "id": "JfFngCvoTxhs"
   },
   "source": [
    "# Tensor 연습 문제 중급"
   ]
  },
  {
   "cell_type": "code",
   "execution_count": 18,
   "metadata": {
    "id": "t-7YsgerT0e3"
   },
   "outputs": [
    {
     "name": "stdout",
     "output_type": "stream",
     "text": [
      "tensor([[ 2,  4,  6],\n",
      "        [ 8, 10, 12]])\n"
     ]
    }
   ],
   "source": [
    "'''\n",
    "[1번] \n",
    "아래 a tensor를 첫 번째 차원을 기준으로 합을 구하세요 \n",
    "'''\n",
    "a = torch.tensor([[[1, 2, 3], [4, 5, 6]], [[1, 2, 3], [4, 5, 6]]])\n",
    "\n",
    "# 아래에 풀이 적기 \n",
    "\n",
    "print(torch.sum(a,dim=0))"
   ]
  },
  {
   "cell_type": "code",
   "execution_count": 50,
   "metadata": {
    "id": "zC8cZWeLBNia"
   },
   "outputs": [
    {
     "name": "stdout",
     "output_type": "stream",
     "text": [
      "tensor([ True,  True, False,  True, False,  True, False,  True, False, False])\n",
      "tensor([0, 1, 2, 3, 4])\n"
     ]
    }
   ],
   "source": [
    "'''\n",
    "[2번] \n",
    "아래 a tensor에서 5보다 작은 원소만 출력해보세요 \n",
    "'''\n",
    "a = torch.tensor([0, 1, 9, 2, 8, 3, 7, 4, 6, 5])\n",
    "\n",
    "# 아래에 풀이 적기\n",
    "\n",
    "#bool 은 boolean 연산을 수행해 a의 각 원소가 5보다 작은지 판단하는 1차원 bool 텐서를 만들어냄.\n",
    "bool= a<5\n",
    "print(bool)\n",
    "\n",
    "#a[bool]을 하면 a텐서에서 bool텐서 값이 true인 위치에 있는 원소들만 선택해 새로운 텐서를 만들어 출력하게 됨.\n",
    "#a[2]를 하면 9가 나오는 것과 같음. bool의 t/f값을 다 순회하면서 true인 인덱스만 출력함.\n",
    "print(a[bool])"
   ]
  },
  {
   "cell_type": "code",
   "execution_count": 55,
   "metadata": {},
   "outputs": [
    {
     "name": "stdout",
     "output_type": "stream",
     "text": [
      "tensor([ True,  True, False,  True, False,  True, False,  True, False, False])\n",
      "tensor([0, 1, 2, 3, 4])\n",
      "(tensor([0, 1, 3, 5, 7]),)\n",
      "tensor([0, 1, 2, 3, 4])\n"
     ]
    }
   ],
   "source": [
    "a = torch.tensor([0, 1, 9, 2, 8, 3, 7, 4, 6, 5])\n",
    "\n",
    "#torch.where(n,True,False)로 위의 bool과 같은 결과를 도출할 수 있음. \n",
    "bool2=torch.where(a<5,True,False)\n",
    "print(bool2)\n",
    "print(a[bool2])\n",
    "\n",
    "#index는 a<5를 만족하는 값이 있는 '인덱스'를 리스트로 반환함. \n",
    "#그래서 a[index]를 하면 a에서 해당 인덱스 위치의 값을 반환.\n",
    "index=torch.where(a<5)\n",
    "print(index)\n",
    "print(a[index])\n"
   ]
  },
  {
   "cell_type": "code",
   "execution_count": 44,
   "metadata": {
    "id": "ihGoJfQuBNcU"
   },
   "outputs": [],
   "source": [
    "'''\n",
    "[3번] \n",
    "아래 a tensor에서 짝수번째 원소만 출력해보세요 \n",
    "'''\n",
    "a = torch.tensor([0, 1, 9, 2, 8, 3, 7, 4, 6, 5])\n",
    "\n",
    "# 아래에 풀이 적기 \n",
    "\n"
   ]
  },
  {
   "cell_type": "code",
   "execution_count": 50,
   "metadata": {},
   "outputs": [
    {
     "name": "stdout",
     "output_type": "stream",
     "text": [
      "tensor(1)\n",
      "[tensor([1])]\n",
      "tensor(2)\n",
      "[tensor([1]), tensor([2])]\n",
      "tensor(3)\n",
      "[tensor([1]), tensor([2]), tensor([3])]\n",
      "tensor(4)\n",
      "[tensor([1]), tensor([2]), tensor([3]), tensor([4])]\n",
      "tensor(5)\n",
      "[tensor([1]), tensor([2]), tensor([3]), tensor([4]), tensor([5])]\n",
      "tensor([1, 2, 3, 4, 5])\n"
     ]
    }
   ],
   "source": [
    "a = torch.tensor([0, 1, 9, 2, 8, 3, 7, 4, 6, 5])\n",
    "\n",
    "#짝수 인덱스 담을 빈 리스트 만들기.\n",
    "a_even = []\n",
    "\n",
    "#a의 길이 만큼 순회\n",
    "for i in range(len(a)):\n",
    "    if i%2==1:\n",
    "        #짝수 번째 원소들 출력\n",
    "        print(a[i])\n",
    "        #원소들 모으기 = 빈 리스트에 짝수 인덱스 a 원소를 삽입.\n",
    "        # 그런데 리스트에 들어가는 것들이 하나의 숫자만 담고 있는 텐서 = 스칼라 = 0차원임.\n",
    "        # 이 상태론 torch.cat으로 텐서들을 연결할 수 없음. \n",
    "        # 그래서 unsqueeze(0)으로 차원 하나를 추가함.\n",
    "        a_even.append(a[i].unsqueeze(0))\n",
    "        print(a_even)\n",
    "#합쳐서 하나의 텐서로.\n",
    "a_even_tensor=torch.cat(a_even)\n",
    "print(a_even_tensor)\n",
    "        \n",
    "        "
   ]
  },
  {
   "cell_type": "code",
   "execution_count": 47,
   "metadata": {},
   "outputs": [
    {
     "name": "stdout",
     "output_type": "stream",
     "text": [
      "tensor(1)\n",
      "tensor(2)\n",
      "tensor(3)\n",
      "tensor(4)\n",
      "tensor(5)\n",
      "tensor([1, 2, 3, 4, 5])\n"
     ]
    }
   ],
   "source": [
    "a = torch.tensor([0, 1, 9, 2, 8, 3, 7, 4, 6, 5])\n",
    "a_even = []\n",
    "\n",
    "#간결하게 2번째 텐서부터 시작해 한 칸씩 건너뛰며 반복\n",
    "for i in range(1,len(a),2):\n",
    "    print(a[i])\n",
    "    a_even.append(a[i].unsqueeze(0))\n",
    "a_even_tensor=torch.cat(a_even)\n",
    "print(a_even_tensor)\n",
    "        \n",
    "        "
   ]
  },
  {
   "cell_type": "code",
   "execution_count": 52,
   "metadata": {
    "id": "Va5EXyiCBNQP"
   },
   "outputs": [],
   "source": [
    "'''\n",
    "[4번] \n",
    "아래 a tensor의 원소를 반대의 순서로 갖는 tensor b를 만드세요\n",
    "'''\n",
    "a = torch.tensor([0, 1, 9, 2, 8, 3, 7, 4, 6, 5])\n",
    "\n",
    "# 아래에 풀이 적기 \n"
   ]
  },
  {
   "cell_type": "code",
   "execution_count": 61,
   "metadata": {},
   "outputs": [
    {
     "name": "stdout",
     "output_type": "stream",
     "text": [
      "tensor([5, 6, 4, 7, 3, 8, 2, 9, 1, 0])\n"
     ]
    }
   ],
   "source": [
    "#flip함수 = 텐서를 지정한 차원을 기준으로 뒤집는다.\n",
    "b_tensor= torch.flip(a, dims=[0])\n",
    "print(b_tensor)"
   ]
  },
  {
   "cell_type": "code",
   "execution_count": 53,
   "metadata": {},
   "outputs": [
    {
     "name": "stdout",
     "output_type": "stream",
     "text": [
      "tensor(5)\n",
      "tensor(6)\n",
      "tensor(4)\n",
      "tensor(7)\n",
      "tensor(3)\n",
      "tensor(8)\n",
      "tensor(2)\n",
      "tensor(9)\n",
      "tensor(1)\n",
      "tensor(0)\n",
      "tensor([5, 6, 4, 7, 3, 8, 2, 9, 1, 0])\n"
     ]
    }
   ],
   "source": [
    "b= []\n",
    "\n",
    "#a를 거꾸로 순회\n",
    "for i in reversed(range(len(a))):\n",
    "    print(a[i])\n",
    "    b.append(a[i].unsqueeze(0))\n",
    "b_tensor=torch.cat(b)\n",
    "print(b_tensor)"
   ]
  },
  {
   "cell_type": "code",
   "execution_count": 59,
   "metadata": {},
   "outputs": [
    {
     "name": "stdout",
     "output_type": "stream",
     "text": [
      "tensor([5, 6, 4, 7, 3, 8, 2, 9, 1, 0])\n"
     ]
    }
   ],
   "source": [
    "a = torch.tensor([0, 1, 9, 2, 8, 3, 7, 4, 6, 5])\n",
    "\n",
    "b= []\n",
    "#range 함수의 인자 - 시작, 끝, 스탭을 이용. \n",
    "#len(a)는 10이므로 9부터 시작시키기 위해서, 끝 숫자에서 1앞에서 끝나기 때문에 시작과 끝에 -1을 해줌.\n",
    "#step을 -1로 하면 거꾸로 순회함.\n",
    "for i in range(len(a)-1,-1,-1):\n",
    "    b.append(a[i].unsqueeze(0))\n",
    "b_tensor=torch.cat(b)\n",
    "print(b_tensor)"
   ]
  },
  {
   "cell_type": "code",
   "execution_count": null,
   "metadata": {
    "id": "YimyvtGpCfns"
   },
   "outputs": [],
   "source": [
    "'''\n",
    "[5번] \n",
    "아래 a tensor를 모든 차원에대해 최소값과 최대값을 구하세요. \n",
    "'''\n",
    "a = torch.tensor([[[1, 2, 3], [4, 5, 6], [7, 8, 9]]])\n",
    "\n",
    "# 아래에 풀이 적기 \n",
    "\n",
    "#차원 크기만큼 순회\n",
    "for i in range(a.dim()):\n",
    "  #a.max와 min으로 최대최소값 구함.\n",
    "  print(a.max(dim=i).values)\n",
    "  print(a.min(dim=i).values)"
   ]
  },
  {
   "cell_type": "code",
   "execution_count": 64,
   "metadata": {
    "id": "qzi74fFSCfgI"
   },
   "outputs": [
    {
     "name": "stdout",
     "output_type": "stream",
     "text": [
      "tensor([[1, 1, 1],\n",
      "        [0, 0, 0],\n",
      "        [1, 1, 1],\n",
      "        [0, 0, 0],\n",
      "        [1, 1, 1],\n",
      "        [0, 0, 0],\n",
      "        [1, 1, 1],\n",
      "        [0, 0, 0],\n",
      "        [1, 1, 1],\n",
      "        [0, 0, 0]])\n"
     ]
    }
   ],
   "source": [
    "'''\n",
    "[6번] \n",
    "아래 a tensor의 짝수 행은 모두 0으로 홀수 행은 모두 1로 바꾸세요\n",
    "'''\n",
    "import torch\n",
    "a = torch.tensor(\n",
    "    [\n",
    "        [0, 0, 0], # 1번째 행 \n",
    "        [1, 1, 1], # 2번째 행 \n",
    "        [2, 2, 2], # 3번째 행 \n",
    "        [3, 3, 3], # 4번째 행 \n",
    "        [4, 4, 4], # 5번째 행 \n",
    "        [5, 5, 5], # 6번째 행 \n",
    "        [6, 6, 6], # 7번째 행 \n",
    "        [7, 7, 7], # 8번째 행 \n",
    "        [8, 8, 8], # 9번째 행 \n",
    "        [9, 9, 9], # 10번째 행 \n",
    "    ]\n",
    ")\n",
    "\n",
    "# 아래에 풀이 적기 \n",
    "#a의 첫 번째 차원을 순회. 0or 1에서 시작해 끝까지 가면서 한 단계씩 건너뜀. \n",
    "#그리고 값을 1와 0으로 바꿈. \n",
    "a[::2] = 1  # 홀수 행 1\n",
    "a[1::2] = 0 # 짝수 행 0\n",
    "\n",
    "print(a)\n"
   ]
  },
  {
   "cell_type": "code",
   "execution_count": 63,
   "metadata": {},
   "outputs": [
    {
     "name": "stdout",
     "output_type": "stream",
     "text": [
      "tensor([[1, 1, 1],\n",
      "        [0, 0, 0],\n",
      "        [1, 1, 1],\n",
      "        [0, 0, 0],\n",
      "        [1, 1, 1],\n",
      "        [0, 0, 0],\n",
      "        [1, 1, 1],\n",
      "        [0, 0, 0],\n",
      "        [1, 1, 1],\n",
      "        [0, 0, 0]])\n"
     ]
    }
   ],
   "source": [
    "#scatter를 쓰는 방법\n",
    "\n",
    "a = torch.tensor(\n",
    "    [\n",
    "        [0, 0, 0], # 1번째 행 \n",
    "        [1, 1, 1], # 2번째 행 \n",
    "        [2, 2, 2], # 3번째 행 \n",
    "        [3, 3, 3], # 4번째 행 \n",
    "        [4, 4, 4], # 5번째 행 \n",
    "        [5, 5, 5], # 6번째 행 \n",
    "        [6, 6, 6], # 7번째 행 \n",
    "        [7, 7, 7], # 8번째 행 \n",
    "        [8, 8, 8], # 9번째 행 \n",
    "        [9, 9, 9], # 10번째 행 \n",
    "    ]\n",
    ")\n",
    "\n",
    "# a를 0텐서로 초기화시킴.\n",
    "a = torch.zeros_like(a)\n",
    "\n",
    "# 인덱스를 지정할 텐서 만들기 \n",
    "#1.a의 1차원의 크기(10)까지의 홀수만 가지는 텐서 생성\n",
    "odd_tensor=torch.tensor(range(0,a.size(0),2))\n",
    "\n",
    "#2.a와 차원을 맞추기 위해 이 텐서에 차원 하나를 더 추가.\n",
    "odd_tensor2=odd_tensor.unsqueeze(1)\n",
    "\n",
    "#3.a의 2번째 차원의 텐서 크기(3)만큼 확장시켜줌. \n",
    "odd_tensor3=odd_tensor2.expand(-1, a.size(1))\n",
    "\n",
    "# 짝수 행은 0으로 놔두고 홀수 행은 1로 채우기\n",
    "# scatter의 첫 번째 인자=값 채울 텐서의 축 \n",
    "# 두 번째 인자 = 값 채울 인덱스. 이걸 odd_tensor3로 지정. \n",
    "# 세 번째 인자 = 채울 값 = 1\n",
    "\n",
    "a.scatter_(0, odd_tensor3, 1)\n",
    "\n",
    "print(a)"
   ]
  },
  {
   "cell_type": "code",
   "execution_count": 83,
   "metadata": {
    "id": "wfrpJJmCCfRl"
   },
   "outputs": [
    {
     "name": "stdout",
     "output_type": "stream",
     "text": [
      "3\n"
     ]
    }
   ],
   "source": [
    "'''\n",
    "[7번] \n",
    "아래 a tensor의 짝수 열은 모두 0으로 홀수 열은 모두 1로 바꾸세요\n",
    "'''\n",
    "import torch\n",
    "a = torch.tensor(\n",
    "    [\n",
    "        [0,    0,    0], \n",
    "        [1,    1,    1], \n",
    "        [2,    2,    2], \n",
    "        [3,    3,    3], \n",
    "        [4,    4,    4], \n",
    "        [5,    5,    5], \n",
    "        [6,    6,    6], \n",
    "        [7,    7,    7], \n",
    "        [8,    8,    8], \n",
    "        [9,    9,    9], \n",
    "    ] # 1열  2열    3열\n",
    ")\n",
    "# 아래에 풀이 적기 \n",
    "for row in \n",
    "print(a.size()[1])\n"
   ]
  },
  {
   "cell_type": "code",
   "execution_count": null,
   "metadata": {},
   "outputs": [],
   "source": [
    "a = torch.tensor(\n",
    "    [\n",
    "        [0,    0,    0], \n",
    "        [1,    1,    1], \n",
    "        [2,    2,    2], \n",
    "        [3,    3,    3], \n",
    "        [4,    4,    4], \n",
    "        [5,    5,    5], \n",
    "        [6,    6,    6], \n",
    "        [7,    7,    7], \n",
    "        [8,    8,    8], \n",
    "        [9,    9,    9], \n",
    "    ] # 1열  2열    3열\n",
    ")\n",
    "\n",
    "for column in range(a.size()[0]):\n",
    "  for row in range(a.size()[1]):\n",
    "    if row%2==1:\n",
    "      a[column][row]=0\n",
    "    else:\n",
    "      a[column][row]=1\n",
    "\n",
    "print(a)"
   ]
  },
  {
   "cell_type": "code",
   "execution_count": null,
   "metadata": {},
   "outputs": [],
   "source": [
    "a = torch.tensor(\n",
    "    [\n",
    "        [0,    0,    0], \n",
    "        [1,    1,    1], \n",
    "        [2,    2,    2], \n",
    "        [3,    3,    3], \n",
    "        [4,    4,    4], \n",
    "        [5,    5,    5], \n",
    "        [6,    6,    6], \n",
    "        [7,    7,    7], \n",
    "        [8,    8,    8], \n",
    "        [9,    9,    9], \n",
    "    ] # 1열  2열    3열\n",
    ")\n",
    "\n",
    "a[:,::2]=1\n",
    "for row in range(a.size()[1]):\n",
    "  if row%2==1:\n",
    "    a[:, row::2] = 0\n",
    "\n",
    "print(a)\n"
   ]
  },
  {
   "attachments": {},
   "cell_type": "markdown",
   "metadata": {},
   "source": [
    "\n",
    "a[:, ::2] = 0은 모든 행(:)에서 0번째, 2번째, 4번째, ... 인덱스(column)의 원소들을 0으로 바꾸는 작업을 수행합니다. 콜론(:)의 의미는 해당 차원 전체를 의미하는 것이며, ::2에서 콜론 뒤의 ::2는 간격(step)을 의미합니다. 즉, 2의 간격으로 인덱스(column)를 선택하여 값을 바꾸는 것입니다.\n",
    "a[:, 1::2] = 1은 모든 행(:)에서 1번째, 3번째, 5번째, ... 인덱스(column)의 원소들을 1로 바꾸는 작업을 수행합니다. 이 또한 간격(step)이 2이기 때문에, 1::2로 인덱스(column)를 선택하여 값을 바꾸는 것입니다.\n",
    "결과적으로, 이 코드는 numpy array 'a'의 짝수 인덱스(column)는 0, 홀수 인덱스(column)는 1로 만드는 작업을 수행합니다."
   ]
  },
  {
   "cell_type": "code",
   "execution_count": null,
   "metadata": {},
   "outputs": [],
   "source": []
  },
  {
   "cell_type": "code",
   "execution_count": null,
   "metadata": {
    "id": "XZx_sQesE9iw"
   },
   "outputs": [],
   "source": [
    "'''\n",
    "[8번] \n",
    "아래 a tensor를 오름차순과 내림차순으로 정렬해보세요 \n",
    " \n",
    "'''\n",
    "a = torch.tensor([9, 5, 3, 8, 1, 6, 4, 7, 2, 0])\n",
    "\n",
    "# 아래에 풀이 적기 \n"
   ]
  },
  {
   "cell_type": "markdown",
   "metadata": {
    "id": "HBA3NcW8TxTG"
   },
   "source": [
    "# Tensor 연습 문제 고급"
   ]
  },
  {
   "cell_type": "code",
   "execution_count": null,
   "metadata": {
    "id": "yo7QNRGqTzoJ"
   },
   "outputs": [],
   "source": [
    "'''\n",
    "[1번] \n",
    "아래 a tensor에서 0.3 보다 큰 값의 수를 출력해 보세요\n",
    "'''\n",
    "a = torch.randn((2,5,3))\n",
    "\n",
    "# 아래에 풀이 적기 \n"
   ]
  },
  {
   "cell_type": "code",
   "execution_count": null,
   "metadata": {
    "id": "oDLcWn5HDoDQ"
   },
   "outputs": [],
   "source": [
    "'''\n",
    "[2번] \n",
    "아래 a tensor에서 음수는 모두 0으로 바꾸세요\n",
    "'''\n",
    "a = torch.tensor(\n",
    "    [\n",
    "        [-2, -1,  2,  5],\n",
    "        [ 1,  1, -1,  0],\n",
    "        [ 2, -1, -1, -1],\n",
    "        [-1, -1, -1,  3],\n",
    "        [ 0, -1,  1,  2],\n",
    "        [ 1, -1,  1, -1],\n",
    "    ]\n",
    ")\n",
    "\n",
    "# 아래에 풀이 적기 \n"
   ]
  },
  {
   "cell_type": "code",
   "execution_count": null,
   "metadata": {},
   "outputs": [],
   "source": [
    "#사람들이 지나가면서 쳐다보는 걱 ㅏㅌ아 민망해서 ㅋㅋㅋ"
   ]
  },
  {
   "cell_type": "code",
   "execution_count": null,
   "metadata": {
    "id": "kfQybkJTEOyW"
   },
   "outputs": [],
   "source": [
    "'''\n",
    "[3번] \n",
    "아래 a tensor를 sigmoid 함수를 적용시켜보세요 \n",
    "sigmoid 함수 : 1 / (1 + e^(-x))\n",
    "그리고 torch.sigmoid(a)의 결과와 비교해 보세요 \n",
    "'''\n",
    "a = torch.tensor([1, 3, 5])\n",
    "\n",
    "# 아래에 풀이 적기 \n"
   ]
  },
  {
   "cell_type": "code",
   "execution_count": null,
   "metadata": {
    "id": "KBTNZVrwEqoq"
   },
   "outputs": [],
   "source": [
    "'''\n",
    "[4번] \n",
    "아래 a tensor를 평균이 0 표준편차가 1이 되도록 정규화 코드를 작성하세요 \n",
    "'''\n",
    "a = torch.tensor([1, 2, 3, 4, 5], dtype=torch.float32)\n",
    "\n",
    "# 아래에 풀이 적기 \n"
   ]
  },
  {
   "cell_type": "code",
   "execution_count": null,
   "metadata": {
    "id": "ym_DiEHqE5N0"
   },
   "outputs": [],
   "source": [
    "'''\n",
    "[5번] \n",
    "아래 a tensor의 모든 원소를 오름차순으로 정렬한 후 크기 기준 상위 10%의 원소만 출력해보세요\n",
    "'''\n",
    "a = torch.tensor([9, 5, 3, 8, 1, 6, 4, 7, 2, 0])\n",
    "\n",
    "# 아래에 풀이 적기 \n"
   ]
  },
  {
   "cell_type": "code",
   "execution_count": null,
   "metadata": {
    "id": "SWHZPkU_FJXT"
   },
   "outputs": [],
   "source": [
    "'''\n",
    "[6번] \n",
    "아래 a tensor를 1차원으로 평탄화하고, 각 원소가 몇 번 등장하는지 세어 결과를 딕셔너리로 출력하는 코드를 작성하시오\n",
    "'''\n",
    "a = torch.tensor([[1, 2, 3], [4, 5, 6], [7, 8, 9]])\n",
    "\n",
    "# 아래에 풀이 적기 \n"
   ]
  },
  {
   "cell_type": "code",
   "execution_count": null,
   "metadata": {
    "id": "qE4c-VvcFQ4O"
   },
   "outputs": [],
   "source": [
    "'''\n",
    "[7번] \n",
    "인덱싱과 슬라이싱을 활용해 아래 a tensor에서 [[4, 5], [7, 8]]를 출력해 보세요\n",
    "'''\n",
    "a = torch.tensor([\n",
    "    [1, 2, 3],\n",
    "    [4, 5, 6],\n",
    "    [7, 8, 9]\n",
    "])\n",
    "\n",
    "# 아래에 풀이 적기 \n"
   ]
  }
 ],
 "metadata": {
  "colab": {
   "provenance": []
  },
  "kernelspec": {
   "display_name": "Python 3 (ipykernel)",
   "language": "python",
   "name": "python3"
  },
  "language_info": {
   "codemirror_mode": {
    "name": "ipython",
    "version": 3
   },
   "file_extension": ".py",
   "mimetype": "text/x-python",
   "name": "python",
   "nbconvert_exporter": "python",
   "pygments_lexer": "ipython3",
   "version": "3.8.16"
  },
  "vscode": {
   "interpreter": {
    "hash": "6f9d60b5ac4a5ca7ad9d9211cbdfedac6ca588abd94fa803a812bceb4143e1c5"
   }
  }
 },
 "nbformat": 4,
 "nbformat_minor": 1
}

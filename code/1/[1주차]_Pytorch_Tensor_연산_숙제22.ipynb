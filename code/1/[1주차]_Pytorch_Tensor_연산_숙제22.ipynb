{
  "nbformat": 4,
  "nbformat_minor": 0,
  "metadata": {
    "colab": {
      "provenance": []
    },
    "kernelspec": {
      "name": "python3",
      "display_name": "Python 3"
    },
    "language_info": {
      "name": "python"
    }
  },
  "cells": [
    {
      "cell_type": "markdown",
      "source": [
        "# Tensor 연습 문제 초급"
      ],
      "metadata": {
        "id": "OHDAOrfdS5p2"
      }
    },
    {
      "cell_type": "code",
      "source": [
        "import torch"
      ],
      "metadata": {
        "id": "NfDN5U4CGRuA"
      },
      "execution_count": 1,
      "outputs": []
    },
    {
      "cell_type": "code",
      "source": [
        "'''\n",
        "[1번] \n",
        "아래 세 리스트 a, b, c를 이용해 이를 pytorch의 float64 type의 tensor로 바꾸고 그것의 크기를 print해 보세요\n",
        "'''\n",
        "a = [8, 6, 1]\n",
        "b = [[1,7,4], [7,2,7]]\n",
        "c = [[[1,2,3], [4,5,1],[9,8,2]], [[10,6,5], [2,2,7],[6,6,1]]]\n",
        "\n",
        "# 아래에 풀이 적기 "
      ],
      "metadata": {
        "id": "_85xqNBW_7aD"
      },
      "execution_count": 3,
      "outputs": []
    },
    {
      "cell_type": "code",
      "source": [
        "#우선 리스트를 텐서로 바꿈.\n",
        "d=torch.Tensor(a)\n",
        "print(d.dtype)\n",
        "\n",
        "#이 상태에선 자료형이 float32이기 때문에 to torch로 텐서의 자료형을 float64로 바꿈.\n",
        "d = d.to(torch.float64)\n",
        "\n",
        "print(d)\n",
        "print(d.shape) #print(d.size())\n",
        "print(d.dim())"
      ],
      "metadata": {
        "colab": {
          "base_uri": "https://localhost:8080/"
        },
        "id": "jsR4SX3vAaFq",
        "outputId": "a2002fd4-8ef8-4e01-9f3a-3467b9350efd"
      },
      "execution_count": 20,
      "outputs": [
        {
          "output_type": "stream",
          "name": "stdout",
          "text": [
            "torch.float32\n",
            "tensor([8., 6., 1.], dtype=torch.float64)\n",
            "torch.Size([3])\n",
            "torch.Size([3])\n",
            "1\n"
          ]
        }
      ]
    },
    {
      "cell_type": "code",
      "source": [
        "e=torch.Tensor(b)\n",
        "e = e.to(torch.float64)\n",
        "\n",
        "print(e)\n",
        "print(e.size())\n",
        "print(e.dim())"
      ],
      "metadata": {
        "colab": {
          "base_uri": "https://localhost:8080/"
        },
        "id": "bTo171FpCULP",
        "outputId": "0aa87c41-fdff-400d-9d37-285bb4ee9cc2"
      },
      "execution_count": 15,
      "outputs": [
        {
          "output_type": "stream",
          "name": "stdout",
          "text": [
            "tensor([[1., 7., 4.],\n",
            "        [7., 2., 7.]], dtype=torch.float64)\n",
            "torch.Size([2, 3])\n",
            "2\n"
          ]
        }
      ]
    },
    {
      "cell_type": "code",
      "source": [
        "f=torch.Tensor(c)\n",
        "f = f.to(torch.float64)\n",
        "\n",
        "print(f)\n",
        "print(f.size())\n",
        "print(f.dim())"
      ],
      "metadata": {
        "colab": {
          "base_uri": "https://localhost:8080/"
        },
        "id": "Euq_gB7MDlfE",
        "outputId": "fb448cf6-a9c5-4760-e9d9-ccc97e5f0fc9"
      },
      "execution_count": 14,
      "outputs": [
        {
          "output_type": "stream",
          "name": "stdout",
          "text": [
            "tensor([[[ 1.,  2.,  3.],\n",
            "         [ 4.,  5.,  1.],\n",
            "         [ 9.,  8.,  2.]],\n",
            "\n",
            "        [[10.,  6.,  5.],\n",
            "         [ 2.,  2.,  7.],\n",
            "         [ 6.,  6.,  1.]]], dtype=torch.float64)\n",
            "torch.Size([2, 3, 3])\n",
            "3\n"
          ]
        }
      ]
    },
    {
      "cell_type": "code",
      "execution_count": 21,
      "metadata": {
        "id": "eICnl-CKSzAy"
      },
      "outputs": [],
      "source": [
        "'''\n",
        "[2번] \n",
        "아래 두 tensor a와 b의 합을 구하고 그 결과를 출력하세요 \n",
        "'''\n",
        "\n",
        "a = torch.tensor([1, 2, 3])\n",
        "b = torch.tensor([4, 5, 6])\n",
        "\n",
        "# 아래에 풀이 적기 \n"
      ]
    },
    {
      "cell_type": "code",
      "source": [
        "#텐서의 크기가 같기 때문에 바로 덧셈 가능.\n",
        "if a.shape==b.shape:\n",
        "  print(a+b)"
      ],
      "metadata": {
        "colab": {
          "base_uri": "https://localhost:8080/"
        },
        "id": "opCtaRAhAZXX",
        "outputId": "bc6843de-394f-4800-fa61-f32fd7d1c575"
      },
      "execution_count": 23,
      "outputs": [
        {
          "output_type": "stream",
          "name": "stdout",
          "text": [
            "tensor([5, 7, 9])\n"
          ]
        }
      ]
    },
    {
      "cell_type": "code",
      "source": [
        "'''\n",
        "[3번] \n",
        "아래 tensor의 최솟값과 최댓값을 출력해세요 \n",
        "'''\n",
        "a = torch.tensor([2, 4, 1, 7, 5])\n",
        "\n",
        "# 아래에 풀이 적기 \n"
      ],
      "metadata": {
        "id": "2lweMCOqTw2D"
      },
      "execution_count": 24,
      "outputs": []
    },
    {
      "cell_type": "code",
      "source": [
        "print(a.max())\n",
        "#dim=0을 넣어주면 ㅊ\n",
        "print(a.max(dim=0))"
      ],
      "metadata": {
        "colab": {
          "base_uri": "https://localhost:8080/"
        },
        "id": "RdbnEAUrNLDl",
        "outputId": "949759f3-5fb9-4c7b-9ce8-12638f6f504a"
      },
      "execution_count": 26,
      "outputs": [
        {
          "output_type": "execute_result",
          "data": {
            "text/plain": [
              "torch.return_types.max(\n",
              "values=tensor(7),\n",
              "indices=tensor(3))"
            ]
          },
          "metadata": {},
          "execution_count": 26
        }
      ]
    },
    {
      "cell_type": "code",
      "source": [
        "'''\n",
        "[4번] \n",
        "모든 값이 0으로 채워진 3 x 4 tensor a를 만드세요 \n",
        "'''\n",
        "\n",
        "# 아래에 풀이 적기 \n"
      ],
      "metadata": {
        "id": "Ng8lVgQKT0zZ"
      },
      "execution_count": null,
      "outputs": []
    },
    {
      "cell_type": "code",
      "source": [
        "'''\n",
        "[5번] \n",
        "3 이상 10 이하의 정수로 이루어진 3 x 4 크기의 tensor a를 만드세요 \n",
        "'''\n",
        "\n",
        "# 아래에 풀이 적기 \n"
      ],
      "metadata": {
        "id": "sgoKcIkd-Y_u"
      },
      "execution_count": null,
      "outputs": []
    },
    {
      "cell_type": "code",
      "source": [
        "'''\n",
        "[6번] \n",
        "아래 a tensor의 앞에서부터 2번 째 원소와 가장 마지막 원소를 출력하세요 \n",
        "'''\n",
        "a = torch.tensor([2, 4, 5, 7, 5])\n",
        "\n",
        "# 아래에 풀이 적기 \n"
      ],
      "metadata": {
        "id": "9EfBcukG-ZQx"
      },
      "execution_count": null,
      "outputs": []
    },
    {
      "cell_type": "code",
      "source": [
        "'''\n",
        "[7번] \n",
        "아래 a tensor의 크기를 출력하고\n",
        "이를 3 x 2 x 2 크기를 갖는 b tensor로 변경해보세요 \n",
        "'''\n",
        "a = torch.randn((2, 6))\n",
        "\n",
        "# 아래에 풀이 적기 \n"
      ],
      "metadata": {
        "id": "l7vtv38t-Zc0"
      },
      "execution_count": null,
      "outputs": []
    },
    {
      "cell_type": "code",
      "source": [
        "'''\n",
        "[8번] \n",
        "아래 a tensor의 모든 원소의 값을 3배 해 보세요 \n",
        "'''\n",
        "a = torch.tensor([1, 2, 3, 4])\n",
        "\n",
        "# 아래에 풀이 적기 \n"
      ],
      "metadata": {
        "id": "rQWDhaYt-Zil"
      },
      "execution_count": null,
      "outputs": []
    },
    {
      "cell_type": "code",
      "source": [
        "'''\n",
        "[9번] \n",
        "아래 a tensor의 모든 원소의 값을 제곱 해 보세요 \n",
        "'''\n",
        "a = torch.tensor([1, 2, 3, 4])\n",
        "\n",
        "# 아래에 풀이 적기 \n"
      ],
      "metadata": {
        "id": "9Il2jg20-Znx"
      },
      "execution_count": null,
      "outputs": []
    },
    {
      "cell_type": "markdown",
      "source": [
        "# Tensor 연습 문제 중급"
      ],
      "metadata": {
        "id": "JfFngCvoTxhs"
      }
    },
    {
      "cell_type": "code",
      "source": [
        "'''\n",
        "[1번] \n",
        "아래 a tensor를 첫 번째 차원을 기준으로 합을 구하세요 \n",
        "'''\n",
        "a = torch.tensor([[[1, 2, 3], [4, 5, 6]], [[1, 2, 3], [4, 5, 6]]])\n",
        "\n",
        "# 아래에 풀이 적기 \n"
      ],
      "metadata": {
        "id": "t-7YsgerT0e3"
      },
      "execution_count": null,
      "outputs": []
    },
    {
      "cell_type": "code",
      "source": [
        "'''\n",
        "[2번] \n",
        "아래 a tensor에서 5보다 작은 원소만 출력해보세요 \n",
        "'''\n",
        "a = torch.tensor([0, 1, 9, 2, 8, 3, 7, 4, 6, 5])\n",
        "\n",
        "# 아래에 풀이 적기 \n"
      ],
      "metadata": {
        "id": "zC8cZWeLBNia"
      },
      "execution_count": null,
      "outputs": []
    },
    {
      "cell_type": "code",
      "source": [
        "'''\n",
        "[3번] \n",
        "아래 a tensor에서 짝수번째 원소만 출력해보세요 \n",
        "'''\n",
        "a = torch.tensor([0, 1, 9, 2, 8, 3, 7, 4, 6, 5])\n",
        "\n",
        "# 아래에 풀이 적기 \n"
      ],
      "metadata": {
        "id": "ihGoJfQuBNcU"
      },
      "execution_count": null,
      "outputs": []
    },
    {
      "cell_type": "code",
      "source": [
        "'''\n",
        "[4번] \n",
        "아래 a tensor의 원소를 반대의 순서로 갖는 tensor b를 만드세요\n",
        "'''\n",
        "a = torch.tensor([0, 1, 9, 2, 8, 3, 7, 4, 6, 5])\n",
        "\n",
        "# 아래에 풀이 적기 \n"
      ],
      "metadata": {
        "id": "Va5EXyiCBNQP"
      },
      "execution_count": null,
      "outputs": []
    },
    {
      "cell_type": "code",
      "source": [
        "'''\n",
        "[5번] \n",
        "아래 a tensor를 모든 차원에대해 최소값과 최대값을 구하세요. \n",
        "'''\n",
        "a = torch.tensor([[[1, 2, 3], [4, 5, 6], [7, 8, 9]]])\n",
        "\n",
        "# 아래에 풀이 적기 \n"
      ],
      "metadata": {
        "id": "YimyvtGpCfns"
      },
      "execution_count": null,
      "outputs": []
    },
    {
      "cell_type": "code",
      "source": [
        "'''\n",
        "[6번] \n",
        "아래 a tensor의 짝수 행은 모두 0으로 홀수 행은 모두 1로 바꾸세요\n",
        "'''\n",
        "a = torch.tensor(\n",
        "    [\n",
        "        [0, 0, 0], # 1번째 행 \n",
        "        [1, 1, 1], # 2번째 행 \n",
        "        [2, 2, 2], # 3번째 행 \n",
        "        [3, 3, 3], # 4번째 행 \n",
        "        [4, 4, 4], # 5번째 행 \n",
        "        [5, 5, 5], # 6번째 행 \n",
        "        [6, 6, 6], # 7번째 행 \n",
        "        [7, 7, 7], # 8번째 행 \n",
        "        [8, 8, 8], # 9번째 행 \n",
        "        [9, 9, 9], # 10번째 행 \n",
        "    ]\n",
        ")\n",
        "\n",
        "# 아래에 풀이 적기 \n"
      ],
      "metadata": {
        "id": "qzi74fFSCfgI"
      },
      "execution_count": null,
      "outputs": []
    },
    {
      "cell_type": "code",
      "source": [
        "'''\n",
        "[7번] \n",
        "아래 a tensor의 짝수 열은 모두 0으로 홀수 열은 모두 1로 바꾸세요\n",
        "'''\n",
        "a = torch.tensor(\n",
        "    [\n",
        "        [0,    0,    0], \n",
        "        [1,    1,    1], \n",
        "        [2,    2,    2], \n",
        "        [3,    3,    3], \n",
        "        [4,    4,    4], \n",
        "        [5,    5,    5], \n",
        "        [6,    6,    6], \n",
        "        [7,    7,    7], \n",
        "        [8,    8,    8], \n",
        "        [9,    9,    9], \n",
        "    ] # 1열  2열    3열\n",
        ")\n",
        "\n",
        "# 아래에 풀이 적기 \n"
      ],
      "metadata": {
        "id": "wfrpJJmCCfRl"
      },
      "execution_count": null,
      "outputs": []
    },
    {
      "cell_type": "code",
      "source": [
        "'''\n",
        "[8번] \n",
        "아래 a tensor를 오름차순과 내림차순으로 정렬해보세요 \n",
        " \n",
        "'''\n",
        "a = torch.tensor([9, 5, 3, 8, 1, 6, 4, 7, 2, 0])\n",
        "\n",
        "# 아래에 풀이 적기 \n"
      ],
      "metadata": {
        "id": "XZx_sQesE9iw"
      },
      "execution_count": null,
      "outputs": []
    },
    {
      "cell_type": "markdown",
      "source": [
        "# Tensor 연습 문제 고급"
      ],
      "metadata": {
        "id": "HBA3NcW8TxTG"
      }
    },
    {
      "cell_type": "code",
      "source": [
        "'''\n",
        "[1번] \n",
        "아래 a tensor에서 0.3 보다 큰 값의 수를 출력해 보세요\n",
        "'''\n",
        "a = torch.randn((2,5,3))\n",
        "\n",
        "# 아래에 풀이 적기 \n"
      ],
      "metadata": {
        "id": "yo7QNRGqTzoJ"
      },
      "execution_count": null,
      "outputs": []
    },
    {
      "cell_type": "code",
      "source": [
        "'''\n",
        "[2번] \n",
        "아래 a tensor에서 음수는 모두 0으로 바꾸세요\n",
        "'''\n",
        "a = torch.tensor(\n",
        "    [\n",
        "        [-2, -1,  2,  5],\n",
        "        [ 1,  1, -1,  0],\n",
        "        [ 2, -1, -1, -1],\n",
        "        [-1, -1, -1,  3],\n",
        "        [ 0, -1,  1,  2],\n",
        "        [ 1, -1,  1, -1],\n",
        "    ]\n",
        ")\n",
        "\n",
        "# 아래에 풀이 적기 \n"
      ],
      "metadata": {
        "id": "oDLcWn5HDoDQ"
      },
      "execution_count": null,
      "outputs": []
    },
    {
      "cell_type": "code",
      "source": [
        "'''\n",
        "[3번] \n",
        "아래 a tensor를 sigmoid 함수를 적용시켜보세요 \n",
        "sigmoid 함수 : 1 / (1 + e^(-x))\n",
        "그리고 torch.sigmoid(a)의 결과와 비교해 보세요 \n",
        "'''\n",
        "a = torch.tensor([1, 3, 5])\n",
        "\n",
        "# 아래에 풀이 적기 \n"
      ],
      "metadata": {
        "id": "kfQybkJTEOyW"
      },
      "execution_count": null,
      "outputs": []
    },
    {
      "cell_type": "code",
      "source": [
        "'''\n",
        "[4번] \n",
        "아래 a tensor를 평균이 0 표준편차가 1이 되도록 정규화 코드를 작성하세요 \n",
        "'''\n",
        "a = torch.tensor([1, 2, 3, 4, 5], dtype=torch.float32)\n",
        "\n",
        "# 아래에 풀이 적기 \n"
      ],
      "metadata": {
        "id": "KBTNZVrwEqoq"
      },
      "execution_count": null,
      "outputs": []
    },
    {
      "cell_type": "code",
      "source": [
        "'''\n",
        "[5번] \n",
        "아래 a tensor의 모든 원소를 오름차순으로 정렬한 후 크기 기준 상위 10%의 원소만 출력해보세요\n",
        "'''\n",
        "a = torch.tensor([9, 5, 3, 8, 1, 6, 4, 7, 2, 0])\n",
        "\n",
        "# 아래에 풀이 적기 \n"
      ],
      "metadata": {
        "id": "ym_DiEHqE5N0"
      },
      "execution_count": null,
      "outputs": []
    },
    {
      "cell_type": "code",
      "source": [
        "'''\n",
        "[6번] \n",
        "아래 a tensor를 1차원으로 평탄화하고, 각 원소가 몇 번 등장하는지 세어 결과를 딕셔너리로 출력하는 코드를 작성하시오\n",
        "'''\n",
        "a = torch.tensor([[1, 2, 3], [4, 5, 6], [7, 8, 9]])\n",
        "\n",
        "# 아래에 풀이 적기 \n"
      ],
      "metadata": {
        "id": "SWHZPkU_FJXT"
      },
      "execution_count": null,
      "outputs": []
    },
    {
      "cell_type": "code",
      "source": [
        "'''\n",
        "[7번] \n",
        "인덱싱과 슬라이싱을 활용해 아래 a tensor에서 [[4, 5], [7, 8]]를 출력해 보세요\n",
        "'''\n",
        "a = torch.tensor([\n",
        "    [1, 2, 3],\n",
        "    [4, 5, 6],\n",
        "    [7, 8, 9]\n",
        "])\n",
        "\n",
        "# 아래에 풀이 적기 \n"
      ],
      "metadata": {
        "id": "qE4c-VvcFQ4O"
      },
      "execution_count": null,
      "outputs": []
    }
  ]
}
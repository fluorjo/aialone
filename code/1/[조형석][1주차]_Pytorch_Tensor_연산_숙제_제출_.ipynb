{
  "cells": [
    {
      "cell_type": "markdown",
      "metadata": {
        "id": "OHDAOrfdS5p2"
      },
      "source": [
        "# Tensor 연습 문제 초급"
      ]
    },
    {
      "cell_type": "code",
      "execution_count": null,
      "metadata": {
        "id": "NfDN5U4CGRuA"
      },
      "outputs": [],
      "source": [
        "import torch"
      ]
    },
    {
      "cell_type": "code",
      "execution_count": null,
      "metadata": {
        "id": "_85xqNBW_7aD",
        "colab": {
          "base_uri": "https://localhost:8080/"
        },
        "outputId": "36f62483-3403-49ec-afb0-e5dd7ea32eea"
      },
      "outputs": [
        {
          "output_type": "stream",
          "name": "stdout",
          "text": [
            "torch.Size([3])\n"
          ]
        }
      ],
      "source": [
        "'''\n",
        "[1번] \n",
        "아래 세 리스트 a, b, c를 이용해 이를 pytorch의 float64 type의 tensor로 바꾸고 그것의 크기를 print해 보세요\n",
        "'''\n",
        "a = [8, 6, 1]\n",
        "b = [[1,7,4], [7,2,7]]\n",
        "c = [[[1,2,3], [4,5,1],[9,8,2]], [[10,6,5], [2,2,7],[6,6,1]]]\n",
        "\n",
        "# 아래에 풀이 적기 \n",
        "\n",
        "#우선 리스트를 텐서로 바꿈.\n",
        "d=torch.Tensor(a)\n",
        "\n",
        "#이 상태에선 자료형이 float32이기 때문에 to torch로 텐서의 자료형을 float64로 바꿈.\n",
        "d = d.to(torch.float64)\n",
        "\n",
        "print(d.shape) #print(d.size())\n"
      ]
    },
    {
      "cell_type": "code",
      "execution_count": null,
      "metadata": {
        "id": "eICnl-CKSzAy",
        "colab": {
          "base_uri": "https://localhost:8080/"
        },
        "outputId": "35726106-d0e0-4b9e-e47a-f829008deb9d"
      },
      "outputs": [
        {
          "output_type": "stream",
          "name": "stdout",
          "text": [
            "tensor([5, 7, 9])\n",
            "tensor([5, 7, 9])\n"
          ]
        }
      ],
      "source": [
        "'''\n",
        "[2번] \n",
        "아래 두 tensor a와 b의 합을 구하고 그 결과를 출력하세요 \n",
        "'''\n",
        "\n",
        "a = torch.tensor([1, 2, 3])\n",
        "b = torch.tensor([4, 5, 6])\n",
        "\n",
        "# 아래에 풀이 적기 \n",
        "\n",
        "#텐서의 크기가 같기 때문에 바로 덧셈 가능.\n",
        "if a.shape==b.shape:\n",
        "  print(a.add(b))\n",
        "\n",
        "  #간단하게 a+b로 해도 됨.\n",
        "if a.shape==b.shape:\n",
        "  print(a+b)\n",
        "  \n"
      ]
    },
    {
      "cell_type": "code",
      "execution_count": null,
      "metadata": {
        "id": "2lweMCOqTw2D",
        "colab": {
          "base_uri": "https://localhost:8080/"
        },
        "outputId": "458dc546-2823-441f-cb28-b54c6e77e262"
      },
      "outputs": [
        {
          "output_type": "stream",
          "name": "stdout",
          "text": [
            "tensor(7)\n",
            "최대값 tensor(7)\n",
            "최소값 tensor(1)\n"
          ]
        }
      ],
      "source": [
        "'''\n",
        "[3번] \n",
        "아래 tensor의 최솟값과 최댓값을 출력해세요 \n",
        "'''\n",
        "a = torch.tensor([2, 4, 1, 7, 5])\n",
        "\n",
        "# 아래에 풀이 적기 \n",
        "print(a.max())\n",
        "#dim=0을 넣어주면 첫번째 차원을 제거함.\n",
        "print('최대값',a.max(dim=0).values)\n",
        "print('최소값',a.min(dim=0).values)"
      ]
    },
    {
      "cell_type": "code",
      "execution_count": null,
      "metadata": {
        "colab": {
          "base_uri": "https://localhost:8080/"
        },
        "id": "Ng8lVgQKT0zZ",
        "outputId": "30d0a82b-8a29-42d2-aa96-51250ef0756e"
      },
      "outputs": [
        {
          "output_type": "stream",
          "name": "stdout",
          "text": [
            "tensor([[0., 0., 0., 0.],\n",
            "        [0., 0., 0., 0.],\n",
            "        [0., 0., 0., 0.]])\n",
            "tensor([[0, 0, 0, 0],\n",
            "        [0, 0, 0, 0],\n",
            "        [0, 0, 0, 0]])\n"
          ]
        }
      ],
      "source": [
        "'''\n",
        "[4번] \n",
        "모든 값이 0으로 채워진 3 x 4 tensor a를 만드세요 \n",
        "'''\n",
        "\n",
        "# 아래에 풀이 적기 \n",
        "\n",
        "tensor_a=torch.zeros(3,4)\n",
        "print(tensor_a)\n",
        "\n",
        "#torch.full은 원하는 값을 지정해 채울 수 있음.\n",
        "tensor_a2=torch.full(size=(3,4), fill_value=0)\n",
        "print(tensor_a2)"
      ]
    },
    {
      "cell_type": "code",
      "execution_count": null,
      "metadata": {
        "colab": {
          "base_uri": "https://localhost:8080/"
        },
        "id": "sgoKcIkd-Y_u",
        "outputId": "04c9f65a-f710-47a5-b172-382c113d19ef"
      },
      "outputs": [
        {
          "output_type": "stream",
          "name": "stdout",
          "text": [
            "tensor([[7, 8, 6, 9],\n",
            "        [7, 3, 3, 8],\n",
            "        [9, 4, 8, 9]])\n"
          ]
        }
      ],
      "source": [
        "'''\n",
        "[5번] \n",
        "3 이상 10 이하의 정수로 이루어진 3 x 4 크기의 tensor a를 만드세요 \n",
        "'''\n",
        "\n",
        "# 아래에 풀이 적기 \n",
        "#randint(a,b,size=(c,d)) 로 랜덤값을 가지는 텐서 생성. a '이상' b '미만'의 범위로 생성됨.\n",
        "tensor_a=torch.randint(3,11, size=(3,4))\n",
        "print(tensor_a)"
      ]
    },
    {
      "cell_type": "code",
      "execution_count": null,
      "metadata": {
        "colab": {
          "base_uri": "https://localhost:8080/"
        },
        "id": "9EfBcukG-ZQx",
        "outputId": "bab909ce-2d8a-4f30-8eaa-dc9246a810dc"
      },
      "outputs": [
        {
          "output_type": "stream",
          "name": "stdout",
          "text": [
            "tensor(4)\n",
            "tensor(5)\n"
          ]
        }
      ],
      "source": [
        "'''\n",
        "[6번] \n",
        "아래 a tensor의 앞에서부터 2번 째 원소와 가장 마지막 원소를 출력하세요 \n",
        "'''\n",
        "a = torch.tensor([2, 4, 5, 7, 5])\n",
        "\n",
        "# 아래에 풀이 적기 \n",
        "\n",
        "#인덱싱.맨 앞은 [0]이고 맨 끝은 [-1]\n",
        "print(a[1])\n",
        "print(a[-1])"
      ]
    },
    {
      "cell_type": "code",
      "execution_count": null,
      "metadata": {
        "colab": {
          "base_uri": "https://localhost:8080/"
        },
        "id": "l7vtv38t-Zc0",
        "outputId": "6160b894-caff-4877-ae90-fb597632c9ba"
      },
      "outputs": [
        {
          "output_type": "stream",
          "name": "stdout",
          "text": [
            "torch.Size([2, 6])\n",
            "torch.Size([3, 2, 2])\n"
          ]
        }
      ],
      "source": [
        "'''\n",
        "[7번] \n",
        "아래 a tensor의 크기를 출력하고\n",
        "이를 3 x 2 x 2 크기를 갖는 b tensor로 변경해보세요 \n",
        "'''\n",
        "a = torch.randn((2, 6))\n",
        "\n",
        "# 아래에 풀이 적기 \n",
        "print(a.size())\n",
        "b=a.reshape(3,2,2)\n",
        "print(b.size())"
      ]
    },
    {
      "cell_type": "code",
      "execution_count": null,
      "metadata": {
        "colab": {
          "base_uri": "https://localhost:8080/"
        },
        "id": "rQWDhaYt-Zil",
        "outputId": "74e232c7-30bc-4aff-8ae1-5b0df67d968e"
      },
      "outputs": [
        {
          "output_type": "stream",
          "name": "stdout",
          "text": [
            "tensor([ 3,  6,  9, 12])\n"
          ]
        }
      ],
      "source": [
        "'''\n",
        "[8번] \n",
        "아래 a tensor의 모든 원소의 값을 3배 해 보세요 \n",
        "'''\n",
        "a = torch.tensor([1, 2, 3, 4])\n",
        "\n",
        "# 아래에 풀이 적기 \n",
        "print(a*3)\n"
      ]
    },
    {
      "cell_type": "code",
      "execution_count": null,
      "metadata": {
        "colab": {
          "base_uri": "https://localhost:8080/"
        },
        "id": "9Il2jg20-Znx",
        "outputId": "94ce739c-9e4c-4ff9-b36b-2befb12318a7"
      },
      "outputs": [
        {
          "output_type": "stream",
          "name": "stdout",
          "text": [
            "tensor([ 1,  4,  9, 16])\n"
          ]
        }
      ],
      "source": [
        "'''\n",
        "[9번] \n",
        "아래 a tensor의 모든 원소의 값을 제곱 해 보세요 \n",
        "'''\n",
        "a = torch.tensor([1, 2, 3, 4])\n",
        "\n",
        "# 아래에 풀이 적기 \n",
        "print(a**2)\n"
      ]
    },
    {
      "cell_type": "markdown",
      "metadata": {
        "id": "JfFngCvoTxhs"
      },
      "source": [
        "# Tensor 연습 문제 중급"
      ]
    },
    {
      "cell_type": "code",
      "execution_count": null,
      "metadata": {
        "id": "t-7YsgerT0e3",
        "colab": {
          "base_uri": "https://localhost:8080/"
        },
        "outputId": "482a7492-8e75-4629-d8e0-40cc627e6f5d"
      },
      "outputs": [
        {
          "output_type": "stream",
          "name": "stdout",
          "text": [
            "tensor([[ 2,  4,  6],\n",
            "        [ 8, 10, 12]])\n"
          ]
        }
      ],
      "source": [
        "'''\n",
        "[1번] \n",
        "아래 a tensor를 첫 번째 차원을 기준으로 합을 구하세요 \n",
        "'''\n",
        "a = torch.tensor([[[1, 2, 3], [4, 5, 6]], [[1, 2, 3], [4, 5, 6]]])\n",
        "\n",
        "# 아래에 풀이 적기 \n",
        "\n",
        "#첫 번째 차원인 [1,2,3]끼리, [4,5,6]끼리 더해줌.\n",
        "print(torch.sum(a,dim=0))"
      ]
    },
    {
      "cell_type": "code",
      "execution_count": null,
      "metadata": {
        "id": "zC8cZWeLBNia",
        "colab": {
          "base_uri": "https://localhost:8080/"
        },
        "outputId": "25deb2ce-13c7-4cdc-e1cb-cf67630e204c"
      },
      "outputs": [
        {
          "output_type": "stream",
          "name": "stdout",
          "text": [
            "tensor([ True,  True, False,  True, False,  True, False,  True, False, False])\n",
            "tensor([0, 1, 2, 3, 4])\n"
          ]
        }
      ],
      "source": [
        "'''\n",
        "[2번] \n",
        "아래 a tensor에서 5보다 작은 원소만 출력해보세요 \n",
        "'''\n",
        "a = torch.tensor([0, 1, 9, 2, 8, 3, 7, 4, 6, 5])\n",
        "\n",
        "# 아래에 풀이 적기\n",
        "\n",
        "#방법1\n",
        "\n",
        "#bool 은 boolean 연산을 수행해 a의 각 원소가 5보다 작은지 판단하는 1차원 bool 텐서를 만들어냄.\n",
        "bool= a<5\n",
        "print(bool)\n",
        "\n",
        "#a[bool]을 하면 슬라이싱 연산으로 a텐서에서 bool텐서 값이 true인 위치에 있는 원소들만 선택해 새로운 텐서를 만들어 출력하게 됨.\n",
        "#a[2]를 하면 9가 나오는 것과 같음. bool의 t/f값을 다 순회하면서 true인 인덱스만 출력함.\n",
        "print(a[bool])"
      ]
    },
    {
      "cell_type": "code",
      "execution_count": null,
      "metadata": {
        "colab": {
          "base_uri": "https://localhost:8080/"
        },
        "id": "fd-iQE4jIUCy",
        "outputId": "5d1a1f20-1099-4534-bf1e-ad0eed06a9e3"
      },
      "outputs": [
        {
          "output_type": "stream",
          "name": "stdout",
          "text": [
            "tensor([ True,  True, False,  True, False,  True, False,  True, False, False])\n",
            "tensor([0, 1, 2, 3, 4])\n"
          ]
        }
      ],
      "source": [
        "\n",
        "#[2번] 방법 2\n",
        "\n",
        "#torch.where(n,True,False)로 위의 bool과 같은 결과를 도출할 수 있음. \n",
        "bool2=torch.where(a<5,True,False)\n",
        "print(bool2)\n",
        "print(a[bool2])\n",
        "\n"
      ]
    },
    {
      "cell_type": "code",
      "source": [
        "#[2번] 방법 3\n",
        "\n",
        "#index는 a<5를 만족하는 값이 있는 '인덱스'를 리스트로 반환함. \n",
        "#그래서 a[index]를 하면 a에서 해당 인덱스 위치의 값을 반환.\n",
        "index=torch.where(a<5)\n",
        "print(index)\n",
        "print(a[index])"
      ],
      "metadata": {
        "colab": {
          "base_uri": "https://localhost:8080/"
        },
        "id": "YyRuPwFlMV3n",
        "outputId": "e065fe61-e9ab-45a6-db22-616975979cad"
      },
      "execution_count": null,
      "outputs": [
        {
          "output_type": "stream",
          "name": "stdout",
          "text": [
            "(tensor([0, 1, 3, 5, 7]),)\n",
            "tensor([0, 1, 2, 3, 4])\n"
          ]
        }
      ]
    },
    {
      "cell_type": "code",
      "execution_count": null,
      "metadata": {
        "id": "ihGoJfQuBNcU",
        "colab": {
          "base_uri": "https://localhost:8080/"
        },
        "outputId": "fddb27a1-35f1-4f9a-8077-54b8ad1160ce"
      },
      "outputs": [
        {
          "output_type": "stream",
          "name": "stdout",
          "text": [
            "[tensor([1]), tensor([2]), tensor([3]), tensor([4]), tensor([5])]\n",
            "tensor([1, 2, 3, 4, 5])\n"
          ]
        }
      ],
      "source": [
        "'''\n",
        "[3번] \n",
        "아래 a tensor에서 짝수번째 원소만 출력해보세요 \n",
        "'''\n",
        "a = torch.tensor([0, 1, 9, 2, 8, 3, 7, 4, 6, 5])\n",
        "\n",
        "# 아래에 풀이 적기 \n",
        "\n",
        "#[3번] 방법 1\n",
        "\n",
        "#짝수 인덱스 담을 빈 리스트 만들기.\n",
        "a_even = []\n",
        "\n",
        "#a의 길이 만큼 순회\n",
        "for i in range(len(a)):\n",
        "    #짝수 번째 원소들 일 경우\n",
        "    if i%2==1:\n",
        "        # 원소들 모으기 = 빈 리스트에 짝수 인덱스 a 원소를 삽입.\n",
        "\n",
        "        # 그런데 리스트에 들어가는 것들이 하나의 숫자만 담고 있는 텐서 = 스칼라 = 0차원임.\n",
        "        #   이 상태론 torch.cat으로 텐서들을 연결할 수 없음. \n",
        "        #   그래서 unsqueeze(0)으로 차원 하나를 추가함.\n",
        "        a_even.append(a[i].unsqueeze(0))\n",
        "\n",
        "print(a_even)\n",
        "\n",
        "#합쳐서 하나의 텐서로.\n",
        "a_even_tensor=torch.cat(a_even)\n",
        "print(a_even_tensor)"
      ]
    },
    {
      "cell_type": "code",
      "execution_count": null,
      "metadata": {
        "colab": {
          "base_uri": "https://localhost:8080/"
        },
        "id": "DngbgNwEIUCy",
        "outputId": "dd949420-f169-4b0d-d547-a6e8ca8091dc"
      },
      "outputs": [
        {
          "output_type": "stream",
          "name": "stdout",
          "text": [
            "tensor([1, 2, 3, 4, 5])\n"
          ]
        }
      ],
      "source": [
        "#[3번] 방법 2\n",
        "\n",
        "a = torch.tensor([0, 1, 9, 2, 8, 3, 7, 4, 6, 5])\n",
        "a_even2 = []\n",
        "\n",
        "#반복문 간결하게 만듦. 2번째 텐서부터 시작해 한 칸씩 건너뛰며 반복.\n",
        "for i in range(1,len(a),2):\n",
        "    a_even2.append(a[i].unsqueeze(0))\n",
        "\n",
        "a_even2_tensor=torch.cat(a_even2)\n",
        "print(a_even2_tensor)\n",
        "        \n",
        "        "
      ]
    },
    {
      "cell_type": "code",
      "execution_count": null,
      "metadata": {
        "id": "Va5EXyiCBNQP",
        "colab": {
          "base_uri": "https://localhost:8080/"
        },
        "outputId": "49089aa1-5a6c-486f-824a-84aa642c1148"
      },
      "outputs": [
        {
          "output_type": "stream",
          "name": "stdout",
          "text": [
            "tensor([5, 6, 4, 7, 3, 8, 2, 9, 1, 0])\n"
          ]
        }
      ],
      "source": [
        "'''\n",
        "[4번] \n",
        "아래 a tensor의 원소를 반대의 순서로 갖는 tensor b를 만드세요\n",
        "'''\n",
        "a = torch.tensor([0, 1, 9, 2, 8, 3, 7, 4, 6, 5])\n",
        "\n",
        "# 아래에 풀이 적기 \n",
        "\n",
        "#[4번] 방법 1\n",
        "\n",
        "#flip함수 = 텐서를 지정한 차원을 기준으로 뒤집는다.\n",
        "b_tensor= torch.flip(a, dims=[0])\n",
        "print(b_tensor)\n"
      ]
    },
    {
      "cell_type": "code",
      "execution_count": null,
      "metadata": {
        "colab": {
          "base_uri": "https://localhost:8080/"
        },
        "id": "gmqEYSLiIUCy",
        "outputId": "780f3f34-33d7-47d7-95c7-9288e3b21855"
      },
      "outputs": [
        {
          "output_type": "stream",
          "name": "stdout",
          "text": [
            "tensor([5, 6, 4, 7, 3, 8, 2, 9, 1, 0])\n"
          ]
        }
      ],
      "source": [
        "#[4번] 방법 2\n",
        "\n",
        "b_list= []\n",
        "\n",
        "#a를 거꾸로 순회, 리스트에 삽입.\n",
        "for i in reversed(range(len(a))):\n",
        "    b_list.append(a[i].unsqueeze(0))\n",
        "\n",
        "#리스트를 텐서로.\n",
        "b_tensor=torch.cat(b_list)\n",
        "print(b_tensor)"
      ]
    },
    {
      "cell_type": "code",
      "execution_count": null,
      "metadata": {
        "colab": {
          "base_uri": "https://localhost:8080/"
        },
        "id": "YETqK2kUIUCz",
        "outputId": "799f83c4-257a-47a7-d558-78f13453f60f"
      },
      "outputs": [
        {
          "output_type": "stream",
          "name": "stdout",
          "text": [
            "tensor([5, 6, 4, 7, 3, 8, 2, 9, 1, 0])\n"
          ]
        }
      ],
      "source": [
        "#[4번] 방법 3\n",
        "\n",
        "b_list2= []\n",
        "#range 함수의 인자 - 시작, 끝, 스탭을 이용. \n",
        "#len(a)는 10이므로 9부터 시작시키기 위해서, 끝 숫자에서 1앞에서 끝나기 때문에 시작과 끝에 -1을 해줌.\n",
        "#step을 -1로 하면 거꾸로 순회함.\n",
        "for i in range(len(a)-1,-1,-1):\n",
        "    b_list2.append(a[i].unsqueeze(0))\n",
        "b_tensor2=torch.cat(b_list2)\n",
        "print(b_tensor2)"
      ]
    },
    {
      "cell_type": "code",
      "execution_count": null,
      "metadata": {
        "id": "YimyvtGpCfns",
        "colab": {
          "base_uri": "https://localhost:8080/"
        },
        "outputId": "d3a0dd59-f41a-4c0c-db58-bccb276d4d9e"
      },
      "outputs": [
        {
          "output_type": "stream",
          "name": "stdout",
          "text": [
            "1번째 차원의 최대값은 tensor([[1, 2, 3],\n",
            "        [4, 5, 6],\n",
            "        [7, 8, 9]])\n",
            "1번째 차원의 최소값은 tensor([[1, 2, 3],\n",
            "        [4, 5, 6],\n",
            "        [7, 8, 9]])\n",
            "2번째 차원의 최대값은 tensor([[7, 8, 9]])\n",
            "2번째 차원의 최소값은 tensor([[1, 2, 3]])\n",
            "3번째 차원의 최대값은 tensor([[3, 6, 9]])\n",
            "3번째 차원의 최소값은 tensor([[1, 4, 7]])\n"
          ]
        }
      ],
      "source": [
        "'''\n",
        "[5번] \n",
        "아래 a tensor를 모든 차원에대해 최소값과 최대값을 구하세요. \n",
        "'''\n",
        "a = torch.tensor([[[1, 2, 3], [4, 5, 6], [7, 8, 9]]])\n",
        "\n",
        "# 아래에 풀이 적기 \n",
        "\n",
        "#차원 크기만큼 순회\n",
        "for i in range(a.dim()):\n",
        "  #a.max와 min으로 최대최소값 구함.\n",
        "  print(f'{i+1}번째 차원의 최대값은',a.max(dim=i).values)\n",
        "  print(f'{i+1}번째 차원의 최소값은',a.min(dim=i).values)"
      ]
    },
    {
      "cell_type": "code",
      "execution_count": null,
      "metadata": {
        "id": "qzi74fFSCfgI",
        "colab": {
          "base_uri": "https://localhost:8080/"
        },
        "outputId": "fbe022f5-780e-428f-ed48-63fd07c7c0da"
      },
      "outputs": [
        {
          "output_type": "stream",
          "name": "stdout",
          "text": [
            "tensor([[1, 1, 1],\n",
            "        [0, 0, 0],\n",
            "        [1, 1, 1],\n",
            "        [0, 0, 0],\n",
            "        [1, 1, 1],\n",
            "        [0, 0, 0],\n",
            "        [1, 1, 1],\n",
            "        [0, 0, 0],\n",
            "        [1, 1, 1],\n",
            "        [0, 0, 0]])\n"
          ]
        }
      ],
      "source": [
        "'''\n",
        "[6번] \n",
        "아래 a tensor의 짝수 행은 모두 0으로 홀수 행은 모두 1로 바꾸세요\n",
        "'''\n",
        "import torch\n",
        "a = torch.tensor(\n",
        "    [\n",
        "        [0, 0, 0], # 1번째 행 \n",
        "        [1, 1, 1], # 2번째 행 \n",
        "        [2, 2, 2], # 3번째 행 \n",
        "        [3, 3, 3], # 4번째 행 \n",
        "        [4, 4, 4], # 5번째 행 \n",
        "        [5, 5, 5], # 6번째 행 \n",
        "        [6, 6, 6], # 7번째 행 \n",
        "        [7, 7, 7], # 8번째 행 \n",
        "        [8, 8, 8], # 9번째 행 \n",
        "        [9, 9, 9], # 10번째 행 \n",
        "    ]\n",
        ")\n",
        "\n",
        "# 아래에 풀이 적기 \n",
        "\n",
        "#[6번] 방법 1\n",
        "\n",
        "#a의 첫 번째 차원을 순회. 0or 1에서 시작해 끝까지 가면서 한 단계씩 건너뜀. \n",
        "#그리고 값을 1와 0으로 바꿈. \n",
        "a[::2] = 1  # 홀수 행 1\n",
        "a[1::2] = 0 # 짝수 행 0\n",
        "\n",
        "print(a)\n"
      ]
    },
    {
      "cell_type": "code",
      "execution_count": null,
      "metadata": {
        "colab": {
          "base_uri": "https://localhost:8080/"
        },
        "id": "MEZgaLr9IUCz",
        "outputId": "9b806e3b-c817-40de-f3b4-1e806d40c329"
      },
      "outputs": [
        {
          "output_type": "stream",
          "name": "stdout",
          "text": [
            "tensor([[1, 1, 1],\n",
            "        [0, 0, 0],\n",
            "        [1, 1, 1],\n",
            "        [0, 0, 0],\n",
            "        [1, 1, 1],\n",
            "        [0, 0, 0],\n",
            "        [1, 1, 1],\n",
            "        [0, 0, 0],\n",
            "        [1, 1, 1],\n",
            "        [0, 0, 0]])\n"
          ]
        }
      ],
      "source": [
        "#[6번] 방법 2\n",
        "\n",
        "#scatter를 쓰는 방법\n",
        "\n",
        "# a를 0텐서로 초기화시킴.\n",
        "a = torch.zeros_like(a)\n",
        "\n",
        "# 인덱스를 지정할 텐서 만들기 \n",
        "#1.a의 1차원의 크기(10)까지의 홀수만 가지는 텐서 생성\n",
        "odd_tensor=torch.tensor(range(0,a.size(0),2))\n",
        "\n",
        "#2.a와 차원을 맞추기 위해 이 텐서에 차원 하나를 더 추가.\n",
        "odd_tensor2=odd_tensor.unsqueeze(1)\n",
        "\n",
        "#3.a의 2번째 차원의 텐서 크기(3)만큼 확장시켜줌. \n",
        "odd_tensor3=odd_tensor2.expand(-1, a.size(1))\n",
        "\n",
        "# 짝수 행은 0으로 놔두고 홀수 행은 1로 채우기\n",
        "# scatter의 첫 번째 인자=값 채울 텐서의 축 \n",
        "# 두 번째 인자 = 값 채울 인덱스. 이걸 odd_tensor3로 지정. \n",
        "# 세 번째 인자 = 채울 값 = 1\n",
        "\n",
        "a.scatter_(0, odd_tensor3, 1)\n",
        "\n",
        "print(a)"
      ]
    },
    {
      "cell_type": "code",
      "execution_count": null,
      "metadata": {
        "id": "wfrpJJmCCfRl",
        "colab": {
          "base_uri": "https://localhost:8080/"
        },
        "outputId": "f5b10e7b-417f-46c3-a49a-218525237ecd"
      },
      "outputs": [
        {
          "output_type": "stream",
          "name": "stdout",
          "text": [
            "tensor([[1, 0, 1],\n",
            "        [1, 0, 1],\n",
            "        [1, 0, 1],\n",
            "        [1, 0, 1],\n",
            "        [1, 0, 1],\n",
            "        [1, 0, 1],\n",
            "        [1, 0, 1],\n",
            "        [1, 0, 1],\n",
            "        [1, 0, 1],\n",
            "        [1, 0, 1]])\n"
          ]
        }
      ],
      "source": [
        "'''\n",
        "[7번] \n",
        "아래 a tensor의 짝수 열은 모두 0으로 홀수 열은 모두 1로 바꾸세요\n",
        "'''\n",
        "import torch\n",
        "a = torch.tensor(\n",
        "    [\n",
        "        [0,    0,    0], \n",
        "        [1,    1,    1], \n",
        "        [2,    2,    2], \n",
        "        [3,    3,    3], \n",
        "        [4,    4,    4], \n",
        "        [5,    5,    5], \n",
        "        [6,    6,    6], \n",
        "        [7,    7,    7], \n",
        "        [8,    8,    8], \n",
        "        [9,    9,    9], \n",
        "    ] # 1열  2열    3열\n",
        ")\n",
        "# 아래에 풀이 적기 \n",
        "\n",
        "#[7번] 방법 1\n",
        "\n",
        "#행과 열의 인덱스값(?)을 각각 a.size()[0]과 [1]을 이용해 추출하고 순회함.\n",
        "for column in range(a.size()[1]):\n",
        "  for row in range(a.size()[0]):\n",
        "    #짝수열이면 0으로. \n",
        "    if column%2==1:\n",
        "      a[row][column]=0\n",
        "    else:\n",
        "      a[row][column]=1\n",
        "\n",
        "print(a)"
      ]
    },
    {
      "cell_type": "code",
      "execution_count": null,
      "metadata": {
        "colab": {
          "base_uri": "https://localhost:8080/"
        },
        "id": "lPr0Q0CRIUCz",
        "outputId": "015fbf9d-258b-4e56-d7e4-8300a6a24713"
      },
      "outputs": [
        {
          "output_type": "stream",
          "name": "stdout",
          "text": [
            "tensor([[1, 0, 1],\n",
            "        [1, 0, 1],\n",
            "        [1, 0, 1],\n",
            "        [1, 0, 1],\n",
            "        [1, 0, 1],\n",
            "        [1, 0, 1],\n",
            "        [1, 0, 1],\n",
            "        [1, 0, 1],\n",
            "        [1, 0, 1],\n",
            "        [1, 0, 1]])\n"
          ]
        }
      ],
      "source": [
        "#[7번] 방법 2\n",
        "\n",
        "\n",
        "\n",
        "a = torch.tensor(\n",
        "    [\n",
        "        [0,    0,    0], \n",
        "        [1,    1,    1], \n",
        "        [2,    2,    2], \n",
        "        [3,    3,    3], \n",
        "        [4,    4,    4], \n",
        "        [5,    5,    5], \n",
        "        [6,    6,    6], \n",
        "        [7,    7,    7], \n",
        "        [8,    8,    8], \n",
        "        [9,    9,    9], \n",
        "    ] # 1열  2열    3열\n",
        ")\n",
        "\n",
        "\n",
        "#모든 행을 순회하면서(=\":,\") 0부터 시작해 끝까지 가면서(::) 두 칸씩 건너가며 값을 1로 바꿈.\n",
        "a[:,::2]=1\n",
        "#마찬가지이나 1부터 시작함.\n",
        "a[:,1::2]=0\n",
        "print(a)\n"
      ]
    },
    {
      "cell_type": "code",
      "execution_count": null,
      "metadata": {
        "id": "XZx_sQesE9iw"
      },
      "outputs": [],
      "source": [
        "'''\n",
        "[8번] \n",
        "아래 a tensor를 오름차순과 내림차순으로 정렬해보세요 \n",
        " \n",
        "'''\n",
        "import torch\n",
        "a = torch.tensor([9, 5, 3, 8, 1, 6, 4, 7, 2, 0])\n",
        "\n",
        "# 아래에 풀이 적기 \n"
      ]
    },
    {
      "cell_type": "code",
      "execution_count": null,
      "metadata": {
        "colab": {
          "base_uri": "https://localhost:8080/"
        },
        "id": "BQ4DmK02IUC0",
        "outputId": "e8dd16f1-9faf-4b70-a919-adcbdda2d053"
      },
      "outputs": [
        {
          "output_type": "stream",
          "name": "stdout",
          "text": [
            "<class 'torch.Tensor'>\n",
            "tensor([0, 1, 2, 3, 4, 5, 6, 7, 8, 9])\n",
            "tensor([9, 8, 7, 6, 5, 4, 3, 2, 1, 0])\n"
          ]
        }
      ],
      "source": [
        "a = torch.tensor([9, 5, 3, 8, 1, 6, 4, 7, 2, 0])\n",
        "print(a.sort(descending=False).values)\n",
        "print(a.sort(descending=True).values)"
      ]
    },
    {
      "cell_type": "markdown",
      "metadata": {
        "id": "HBA3NcW8TxTG"
      },
      "source": [
        "# Tensor 연습 문제 고급"
      ]
    },
    {
      "cell_type": "code",
      "execution_count": null,
      "metadata": {
        "id": "yo7QNRGqTzoJ",
        "colab": {
          "base_uri": "https://localhost:8080/"
        },
        "outputId": "ee0248ba-171d-490d-8add-0feaacc359c2"
      },
      "outputs": [
        {
          "output_type": "stream",
          "name": "stdout",
          "text": [
            "tensor([2.3021, 1.3478, 1.1939, 0.4408, 0.4788, 1.4642, 0.4448, 0.9560, 1.5142,\n",
            "        0.6892])\n"
          ]
        }
      ],
      "source": [
        "'''\n",
        "[1번] \n",
        "아래 a tensor에서 0.3 보다 큰 값의 수를 출력해 보세요\n",
        "'''\n",
        "a = torch.randn((2,5,3))\n",
        "\n",
        "# 아래에 풀이 적기\n",
        "\n",
        "# [a>0.3]은 조건의 true/false를 가지는 리스트가 나옴. 이걸 이용해 슬라이싱하여 1차원 배열로 반환.\n",
        "\n",
        "print(a[a>0.3])"
      ]
    },
    {
      "cell_type": "code",
      "execution_count": null,
      "metadata": {
        "id": "oDLcWn5HDoDQ"
      },
      "outputs": [],
      "source": [
        "'''\n",
        "[2번] \n",
        "아래 a tensor에서 음수는 모두 0으로 바꾸세요\n",
        "'''\n",
        "a = torch.tensor([[-2, -1,  2,  5],[ 1,  1, -1,  0],[ 2, -1, -1, -1],[-1, -1, -1,  3],[ 0, -1,  1,  2],[ 1, -1,  1, -1],])\n",
        "\n",
        "# 아래에 풀이 적기 \n"
      ]
    },
    {
      "cell_type": "code",
      "source": [
        "#[2번] 방법 1\n",
        "\n",
        "#첫 번째 차원을 순회\n",
        "for i in a:\n",
        "  #두 번째 차원의 값을 첫 번째 차원 길이를 이용해 인덱싱하고 순회\n",
        "  for r in range(len(a[0])):\n",
        "    #값이 0보다 작으면 0으로.\n",
        "    if i[r]<0:\n",
        "            i[r]=0\n",
        "print(a)"
      ],
      "metadata": {
        "colab": {
          "base_uri": "https://localhost:8080/"
        },
        "id": "cChDNhfnYTIX",
        "outputId": "96d582ca-2669-4d49-e316-7c3a07a7770b"
      },
      "execution_count": null,
      "outputs": [
        {
          "output_type": "stream",
          "name": "stdout",
          "text": [
            "tensor([[0, 0, 2, 5],\n",
            "        [1, 1, 0, 0],\n",
            "        [2, 0, 0, 0],\n",
            "        [0, 0, 0, 3],\n",
            "        [0, 0, 1, 2],\n",
            "        [1, 0, 1, 0]])\n"
          ]
        }
      ]
    },
    {
      "cell_type": "code",
      "source": [
        "#[2번] 방법 2 torch.clamp 사용.\n",
        "\n",
        "a = torch.tensor([[-2, -1,  2,  5],[ 1,  1, -1,  0],[ 2, -1, -1, -1],[-1, -1, -1,  3],[ 0, -1,  1,  2],[ 1, -1,  1, -1],])\n",
        "\n",
        "#clamp는 텐서 요소들을 주어진 최소값과 최대값 사이의 값으로 잘라냄. 최소값을 0으로 함. \n",
        "a = torch.clamp(a, min=0)\n",
        "print(a)"
      ],
      "metadata": {
        "colab": {
          "base_uri": "https://localhost:8080/"
        },
        "id": "m2aB82zlZfVx",
        "outputId": "77502628-b1d6-48a2-b52a-e9b82dfe5fb3"
      },
      "execution_count": null,
      "outputs": [
        {
          "output_type": "stream",
          "name": "stdout",
          "text": [
            "tensor([[0, 0, 2, 5],\n",
            "        [1, 1, 0, 0],\n",
            "        [2, 0, 0, 0],\n",
            "        [0, 0, 0, 3],\n",
            "        [0, 0, 1, 2],\n",
            "        [1, 0, 1, 0]])\n"
          ]
        }
      ]
    },
    {
      "cell_type": "code",
      "execution_count": null,
      "metadata": {
        "id": "kfQybkJTEOyW",
        "colab": {
          "base_uri": "https://localhost:8080/"
        },
        "outputId": "ed117820-4eb7-4126-9911-9e3965a6400c"
      },
      "outputs": [
        {
          "output_type": "stream",
          "name": "stdout",
          "text": [
            "0.7310585786300049\n",
            "0.9525741268224334\n",
            "0.9933071490757153\n",
            "tensor([0.7311, 0.9526, 0.9933])\n",
            "tensor([0.7311, 0.9526, 0.9933])\n"
          ]
        }
      ],
      "source": [
        "'''\n",
        "[3번] \n",
        "아래 a tensor를 sigmoid 함수를 적용시켜보세요 \n",
        "sigmoid 함수 : 1 / (1 + e^(-x))\n",
        "그리고 torch.sigmoid(a)의 결과와 비교해 보세요 \n",
        "'''\n",
        "a = torch.tensor([1, 3, 5])\n",
        "\n",
        "# 아래에 풀이 적기 \n",
        "\n",
        "#자연상수 e 불러오기 위해 math 사용.\n",
        "import math\n",
        "\n",
        "def sigmoid(x):\n",
        "    y=1 / (1 + math.exp(-x))\n",
        "    return y \n",
        "\n",
        "#빈 리스트 만들고 a의 원소에 각각 sigmoid 함수 적용한 걸 넣음. 그리고 tensor로 바꿔줌.\n",
        "b=[]\n",
        "for i in a:\n",
        "    b.append(sigmoid(i))\n",
        "    print(sigmoid(i))\n",
        "print(torch.tensor(b))\n",
        "print(torch.sigmoid(a))\n",
        "\n",
        "#텐서로 바꾸기 전에는 소수점 5번째 자리 이후도 나왔는데 텐서로 하면 사라짐."
      ]
    },
    {
      "cell_type": "code",
      "execution_count": null,
      "metadata": {
        "id": "KBTNZVrwEqoq",
        "colab": {
          "base_uri": "https://localhost:8080/"
        },
        "outputId": "18a2b251-406c-461e-a20f-ca7192488fe8"
      },
      "outputs": [
        {
          "output_type": "stream",
          "name": "stdout",
          "text": [
            "tensor(3.)\n",
            "tensor(1.5811)\n",
            "tensor([-1.2649, -0.2273,  0.3304,  0.8812,  1.6885])\n",
            "tensor(0.0529)\n",
            "tensor(1.0127)\n"
          ]
        }
      ],
      "source": [
        "'''\n",
        "[4번] \n",
        "아래 a tensor를 평균이 0 표준편차가 1이 되도록 정규화 코드를 작성하세요 \n",
        "'''\n",
        "a = torch.tensor([1, 2, 3, 4, 5], dtype=torch.float32)\n",
        "print(torch.mean(a))\n",
        "print(torch.std(a))\n",
        "# 아래에 풀이 적기 \n",
        "\n",
        "#각 원소에서 평균을 뺀 후 표준편차로 나눔.\n",
        "\n",
        "def Normalization(x):\n",
        "    for i in range(len(x)):\n",
        "        x[i]= (x[i]- torch.mean(a))/torch.std(a)\n",
        "    return x\n",
        "print(Normalization(a))\n",
        "print(torch.mean(Normalization(a)))\n",
        "print(torch.std(Normalization(a)))\n"
      ]
    },
    {
      "cell_type": "code",
      "execution_count": null,
      "metadata": {
        "id": "ym_DiEHqE5N0",
        "colab": {
          "base_uri": "https://localhost:8080/"
        },
        "outputId": "aedfb21a-d2e1-46cf-a74a-5c976f422d78"
      },
      "outputs": [
        {
          "output_type": "stream",
          "name": "stdout",
          "text": [
            "tensor([9])\n"
          ]
        }
      ],
      "source": [
        "'''\n",
        "[5번] \n",
        "아래 a tensor의 모든 원소를 오름차순으로 정렬한 후 크기 기준 상위 10%의 원소만 출력해보세요\n",
        "'''\n",
        "a = torch.tensor([9, 5, 3, 8, 1, 6, 4, 7, 2, 0])\n",
        "\n",
        "# 아래에 풀이 적기 \n",
        "\n",
        "#상위 10%의 기준 숫자를 잡음. 뒤에서부터 슬라이스할 거기 때문에 음수 및 정수로 바꿔줌.\n",
        "top10per_num=int(-len(a)/10)\n",
        "\n",
        "#a를 정렬함\n",
        "a_sorted=torch.sort(a).values\n",
        "\n",
        "#위에서 뽑은 상위 10% 기준점으로 슬라이싱.\n",
        "print(a_sorted[top10per_num:])\n",
        "\n"
      ]
    },
    {
      "cell_type": "code",
      "execution_count": null,
      "metadata": {
        "id": "SWHZPkU_FJXT",
        "colab": {
          "base_uri": "https://localhost:8080/"
        },
        "outputId": "69ea1455-e614-4734-f5c5-eac26dd5359d"
      },
      "outputs": [
        {
          "output_type": "stream",
          "name": "stdout",
          "text": [
            "{tensor(1): 1, tensor(2): 2, tensor(3): 3, tensor(4): 4, tensor(5): 5}\n"
          ]
        }
      ],
      "source": [
        "'''\n",
        "[6번] \n",
        "아래 a tensor를 1차원으로 평탄화하고, 각 원소가 몇 번 등장하는지 세어 결과를 딕셔너리로 출력하는 코드를 작성하시오\n",
        "'''\n",
        "a = torch.tensor([[1, 2, 2], [3, 3, 3], [4, 4, 4],[4,5,5],[5,5,5]])\n",
        "\n",
        "# 아래에 풀이 적기 \n",
        "\n",
        "\n",
        "#torch.ravel = 텐서를 1차원 벡터로 평탄화. 리스트로 만듦.\n",
        "flat_a=list(torch.ravel(a))\n",
        "\n",
        "# 숫자 중복이 제거된 값들이 들어갈 리스트\n",
        "no_duplication = [] \n",
        "for value in flat_a:\n",
        "    if value not in no_duplication:\n",
        "        no_duplication.append(value)\n",
        "\n",
        "#각 값들의 개수가 담긴 리스트\n",
        "count_list=[]\n",
        "\n",
        "#평탄화한 리스트에서 값을 세고 그 값을 count_list에 넣음.\n",
        "for i in flat_a:\n",
        "  if flat_a.count(i) not in count_list:\n",
        "   count_list.append(flat_a.count(i))\n",
        "\n",
        "#최종적으로 원소와 그 개수 두 리스트를 이용해 딕셔러니 만듦.\n",
        "final_dict=dict(zip(no_duplication,count_list))\n",
        "print(final_dict)"
      ]
    },
    {
      "cell_type": "code",
      "execution_count": null,
      "metadata": {
        "id": "qE4c-VvcFQ4O",
        "colab": {
          "base_uri": "https://localhost:8080/"
        },
        "outputId": "2b61632a-ea0e-4b5f-9d74-9fedc6370db8"
      },
      "outputs": [
        {
          "output_type": "stream",
          "name": "stdout",
          "text": [
            "tensor([[4, 5],\n",
            "        [7, 8]])\n"
          ]
        }
      ],
      "source": [
        "'''\n",
        "[7번] \n",
        "인덱싱과 슬라이싱을 활용해 아래 a tensor에서 [[4, 5], [7, 8]]를 출력해 보세요\n",
        "'''\n",
        "a = torch.tensor([\n",
        "    [1, 2, 3],\n",
        "    [4, 5, 6],\n",
        "    [7, 8, 9]\n",
        "])\n",
        "\n",
        "# 아래에 풀이 적기 \n",
        "\n",
        "#1행부터 시작하고(\"1:\",)1행의 첫 번째 원소부터 시작하며('0')두 번째 원소까지(:2) 슬라이싱.\n",
        "result = a[1:,0:2]\n",
        "print(result)"
      ]
    }
  ],
  "metadata": {
    "colab": {
      "provenance": []
    },
    "kernelspec": {
      "display_name": "Python 3 (ipykernel)",
      "language": "python",
      "name": "python3"
    },
    "language_info": {
      "codemirror_mode": {
        "name": "ipython",
        "version": 3
      },
      "file_extension": ".py",
      "mimetype": "text/x-python",
      "name": "python",
      "nbconvert_exporter": "python",
      "pygments_lexer": "ipython3",
      "version": "3.8.16"
    },
    "vscode": {
      "interpreter": {
        "hash": "6f9d60b5ac4a5ca7ad9d9211cbdfedac6ca588abd94fa803a812bceb4143e1c5"
      }
    }
  },
  "nbformat": 4,
  "nbformat_minor": 0
}